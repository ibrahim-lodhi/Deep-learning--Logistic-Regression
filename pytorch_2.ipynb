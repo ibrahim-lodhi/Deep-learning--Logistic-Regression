{
  "nbformat": 4,
  "nbformat_minor": 0,
  "metadata": {
    "colab": {
      "provenance": []
    },
    "kernelspec": {
      "name": "python3",
      "display_name": "Python 3"
    },
    "language_info": {
      "name": "python"
    }
  },
  "cells": [
    {
      "cell_type": "markdown",
      "source": [
        "# We are going to classify images"
      ],
      "metadata": {
        "id": "ExKWFfDTTy8r"
      }
    },
    {
      "cell_type": "code",
      "execution_count": null,
      "metadata": {
        "id": "f_bMzZE-SXep"
      },
      "outputs": [],
      "source": [
        "import torch\n",
        "import torchvision\n",
        "from torchvision.datasets import MNIST"
      ]
    },
    {
      "cell_type": "code",
      "source": [
        "#Download training dataset\n",
        "dataset = MNIST(root='data/', download = True)"
      ],
      "metadata": {
        "colab": {
          "base_uri": "https://localhost:8080/"
        },
        "id": "jej95pA0UCWZ",
        "outputId": "b24c83e3-ac5a-48e0-ae42-0889b2b99785"
      },
      "execution_count": null,
      "outputs": [
        {
          "output_type": "stream",
          "name": "stdout",
          "text": [
            "Downloading http://yann.lecun.com/exdb/mnist/train-images-idx3-ubyte.gz\n",
            "Failed to download (trying next):\n",
            "HTTP Error 403: Forbidden\n",
            "\n",
            "Downloading https://ossci-datasets.s3.amazonaws.com/mnist/train-images-idx3-ubyte.gz\n",
            "Downloading https://ossci-datasets.s3.amazonaws.com/mnist/train-images-idx3-ubyte.gz to data/MNIST/raw/train-images-idx3-ubyte.gz\n"
          ]
        },
        {
          "output_type": "stream",
          "name": "stderr",
          "text": [
            "100%|██████████| 9.91M/9.91M [00:00<00:00, 37.6MB/s]\n"
          ]
        },
        {
          "output_type": "stream",
          "name": "stdout",
          "text": [
            "Extracting data/MNIST/raw/train-images-idx3-ubyte.gz to data/MNIST/raw\n",
            "\n",
            "Downloading http://yann.lecun.com/exdb/mnist/train-labels-idx1-ubyte.gz\n",
            "Failed to download (trying next):\n",
            "HTTP Error 403: Forbidden\n",
            "\n",
            "Downloading https://ossci-datasets.s3.amazonaws.com/mnist/train-labels-idx1-ubyte.gz\n",
            "Downloading https://ossci-datasets.s3.amazonaws.com/mnist/train-labels-idx1-ubyte.gz to data/MNIST/raw/train-labels-idx1-ubyte.gz\n"
          ]
        },
        {
          "output_type": "stream",
          "name": "stderr",
          "text": [
            "100%|██████████| 28.9k/28.9k [00:00<00:00, 1.07MB/s]\n"
          ]
        },
        {
          "output_type": "stream",
          "name": "stdout",
          "text": [
            "Extracting data/MNIST/raw/train-labels-idx1-ubyte.gz to data/MNIST/raw\n",
            "\n",
            "Downloading http://yann.lecun.com/exdb/mnist/t10k-images-idx3-ubyte.gz\n",
            "Failed to download (trying next):\n",
            "HTTP Error 403: Forbidden\n",
            "\n",
            "Downloading https://ossci-datasets.s3.amazonaws.com/mnist/t10k-images-idx3-ubyte.gz\n",
            "Downloading https://ossci-datasets.s3.amazonaws.com/mnist/t10k-images-idx3-ubyte.gz to data/MNIST/raw/t10k-images-idx3-ubyte.gz\n"
          ]
        },
        {
          "output_type": "stream",
          "name": "stderr",
          "text": [
            "100%|██████████| 1.65M/1.65M [00:00<00:00, 7.95MB/s]\n"
          ]
        },
        {
          "output_type": "stream",
          "name": "stdout",
          "text": [
            "Extracting data/MNIST/raw/t10k-images-idx3-ubyte.gz to data/MNIST/raw\n",
            "\n",
            "Downloading http://yann.lecun.com/exdb/mnist/t10k-labels-idx1-ubyte.gz\n",
            "Failed to download (trying next):\n",
            "HTTP Error 403: Forbidden\n",
            "\n",
            "Downloading https://ossci-datasets.s3.amazonaws.com/mnist/t10k-labels-idx1-ubyte.gz\n",
            "Downloading https://ossci-datasets.s3.amazonaws.com/mnist/t10k-labels-idx1-ubyte.gz to data/MNIST/raw/t10k-labels-idx1-ubyte.gz\n"
          ]
        },
        {
          "output_type": "stream",
          "name": "stderr",
          "text": [
            "100%|██████████| 4.54k/4.54k [00:00<00:00, 2.33MB/s]\n"
          ]
        },
        {
          "output_type": "stream",
          "name": "stdout",
          "text": [
            "Extracting data/MNIST/raw/t10k-labels-idx1-ubyte.gz to data/MNIST/raw\n",
            "\n"
          ]
        }
      ]
    },
    {
      "cell_type": "code",
      "source": [
        "type(dataset)"
      ],
      "metadata": {
        "colab": {
          "base_uri": "https://localhost:8080/",
          "height": 204
        },
        "id": "tTOqnDDIU3sE",
        "outputId": "8b91e67b-da62-416f-a472-1762349cd9ff"
      },
      "execution_count": null,
      "outputs": [
        {
          "output_type": "execute_result",
          "data": {
            "text/plain": [
              "torchvision.datasets.mnist.MNIST"
            ],
            "text/html": [
              "<div style=\"max-width:800px; border: 1px solid var(--colab-border-color);\"><style>\n",
              "      pre.function-repr-contents {\n",
              "        overflow-x: auto;\n",
              "        padding: 8px 12px;\n",
              "        max-height: 500px;\n",
              "      }\n",
              "\n",
              "      pre.function-repr-contents.function-repr-contents-collapsed {\n",
              "        cursor: pointer;\n",
              "        max-height: 100px;\n",
              "      }\n",
              "    </style>\n",
              "    <pre style=\"white-space: initial; background:\n",
              "         var(--colab-secondary-surface-color); padding: 8px 12px;\n",
              "         border-bottom: 1px solid var(--colab-border-color);\"><b>torchvision.datasets.mnist.MNIST</b><br/>def __init__(root: Union[str, Path], train: bool=True, transform: Optional[Callable]=None, target_transform: Optional[Callable]=None, download: bool=False) -&gt; None</pre><pre class=\"function-repr-contents function-repr-contents-collapsed\" style=\"\"><a class=\"filepath\" style=\"display:none\" href=\"#\">/usr/local/lib/python3.10/dist-packages/torchvision/datasets/mnist.py</a>`MNIST &lt;http://yann.lecun.com/exdb/mnist/&gt;`_ Dataset.\n",
              "\n",
              "Args:\n",
              "    root (str or ``pathlib.Path``): Root directory of dataset where ``MNIST/raw/train-images-idx3-ubyte``\n",
              "        and  ``MNIST/raw/t10k-images-idx3-ubyte`` exist.\n",
              "    train (bool, optional): If True, creates dataset from ``train-images-idx3-ubyte``,\n",
              "        otherwise from ``t10k-images-idx3-ubyte``.\n",
              "    download (bool, optional): If True, downloads the dataset from the internet and\n",
              "        puts it in root directory. If dataset is already downloaded, it is not\n",
              "        downloaded again.\n",
              "    transform (callable, optional): A function/transform that  takes in a PIL image\n",
              "        and returns a transformed version. E.g, ``transforms.RandomCrop``\n",
              "    target_transform (callable, optional): A function/transform that takes in the\n",
              "        target and transforms it.</pre>\n",
              "      <script>\n",
              "      if (google.colab.kernel.accessAllowed && google.colab.files && google.colab.files.view) {\n",
              "        for (const element of document.querySelectorAll('.filepath')) {\n",
              "          element.style.display = 'block'\n",
              "          element.onclick = (event) => {\n",
              "            event.preventDefault();\n",
              "            event.stopPropagation();\n",
              "            google.colab.files.view(element.textContent, 20);\n",
              "          };\n",
              "        }\n",
              "      }\n",
              "      for (const element of document.querySelectorAll('.function-repr-contents')) {\n",
              "        element.onclick = (event) => {\n",
              "          event.preventDefault();\n",
              "          event.stopPropagation();\n",
              "          element.classList.toggle('function-repr-contents-collapsed');\n",
              "        };\n",
              "      }\n",
              "      </script>\n",
              "      </div>"
            ]
          },
          "metadata": {},
          "execution_count": 7
        }
      ]
    },
    {
      "cell_type": "code",
      "source": [
        "len(dataset)"
      ],
      "metadata": {
        "colab": {
          "base_uri": "https://localhost:8080/"
        },
        "id": "Q_TKSHEBVUG3",
        "outputId": "24de5254-0ced-4f2c-bc4a-1aff3830a584"
      },
      "execution_count": null,
      "outputs": [
        {
          "output_type": "execute_result",
          "data": {
            "text/plain": [
              "60000"
            ]
          },
          "metadata": {},
          "execution_count": 8
        }
      ]
    },
    {
      "cell_type": "code",
      "source": [
        "dataset[0]"
      ],
      "metadata": {
        "colab": {
          "base_uri": "https://localhost:8080/"
        },
        "id": "DSPhR-Y9Vasc",
        "outputId": "2edca798-d92c-42c7-8a28-381ab6da9b08"
      },
      "execution_count": null,
      "outputs": [
        {
          "output_type": "execute_result",
          "data": {
            "text/plain": [
              "(<PIL.Image.Image image mode=L size=28x28>, 5)"
            ]
          },
          "metadata": {},
          "execution_count": 9
        }
      ]
    },
    {
      "cell_type": "code",
      "source": [
        "import matplotlib.pyplot as plt\n",
        "%matplotlib inline"
      ],
      "metadata": {
        "id": "WrVceiAgV7B7"
      },
      "execution_count": null,
      "outputs": []
    },
    {
      "cell_type": "code",
      "source": [
        "image, label = dataset[0]\n",
        "\n",
        "plt.imshow(image, cmap = 'grey')\n",
        "\n",
        "print('Label:', label)"
      ],
      "metadata": {
        "colab": {
          "base_uri": "https://localhost:8080/",
          "height": 447
        },
        "id": "mHV54ZiPWE5o",
        "outputId": "52d36100-10ef-4198-d7af-6016c5edf814"
      },
      "execution_count": null,
      "outputs": [
        {
          "output_type": "stream",
          "name": "stdout",
          "text": [
            "Label: 5\n"
          ]
        },
        {
          "output_type": "display_data",
          "data": {
            "text/plain": [
              "<Figure size 640x480 with 1 Axes>"
            ],
            "image/png": "[encoded data removed]"
          },
          "metadata": {}
        }
      ]
    },
    {
      "cell_type": "code",
      "source": [
        "image, label = dataset[10]\n",
        "\n",
        "plt.imshow(image, cmap = 'grey')\n",
        "\n",
        "print('Label:', label)"
      ],
      "metadata": {
        "colab": {
          "base_uri": "https://localhost:8080/",
          "height": 447
        },
        "id": "VEYa0MntW06j",
        "outputId": "0c215680-8466-43e5-9e61-c7bd85dd310e"
      },
      "execution_count": null,
      "outputs": [
        {
          "output_type": "stream",
          "name": "stdout",
          "text": [
            "Label: 3\n"
          ]
        },
        {
          "output_type": "display_data",
          "data": {
            "text/plain": [
              "<Figure size 640x480 with 1 Axes>"
            ],
            "image/png": "[encoded data removed]"
          },
          "metadata": {}
        }
      ]
    },
    {
      "cell_type": "code",
      "source": [
        "import torchvision.transforms as transforms"
      ],
      "metadata": {
        "id": "q6o0OZGzW6Im"
      },
      "execution_count": null,
      "outputs": []
    },
    {
      "cell_type": "markdown",
      "source": [
        "We will be converting these images into tensors"
      ],
      "metadata": {
        "id": "UTJp546cXQ7T"
      }
    },
    {
      "cell_type": "code",
      "source": [
        "# Taking train data from dataset\n",
        "\n",
        "dataset = MNIST(root = 'data/', train = True, transform = transforms.ToTensor())"
      ],
      "metadata": {
        "id": "uTTZg0l5XQBf"
      },
      "execution_count": null,
      "outputs": []
    },
    {
      "cell_type": "code",
      "source": [
        "img_tensor, label = dataset[0]\n",
        "print(img_tensor.shape, label)"
      ],
      "metadata": {
        "colab": {
          "base_uri": "https://localhost:8080/"
        },
        "id": "vqq04nDZXrmR",
        "outputId": "31dfe0ac-6137-49ad-b610-167e4827a6fa"
      },
      "execution_count": null,
      "outputs": [
        {
          "output_type": "stream",
          "name": "stdout",
          "text": [
            "torch.Size([1, 28, 28]) 5\n"
          ]
        }
      ]
    },
    {
      "cell_type": "code",
      "source": [
        "print(img_tensor[:,10:15,10:15])\n",
        "print(torch.max(img_tensor),torch.min(img_tensor))"
      ],
      "metadata": {
        "colab": {
          "base_uri": "https://localhost:8080/"
        },
        "id": "Mq5xoA9YX5M5",
        "outputId": "94897758-0514-41aa-b964-364acd64f528"
      },
      "execution_count": null,
      "outputs": [
        {
          "output_type": "stream",
          "name": "stdout",
          "text": [
            "tensor([[[0.0039, 0.6039, 0.9922, 0.3529, 0.0000],\n",
            "         [0.0000, 0.5451, 0.9922, 0.7451, 0.0078],\n",
            "         [0.0000, 0.0431, 0.7451, 0.9922, 0.2745],\n",
            "         [0.0000, 0.0000, 0.1373, 0.9451, 0.8824],\n",
            "         [0.0000, 0.0000, 0.0000, 0.3176, 0.9412]]])\n",
            "tensor(1.) tensor(0.)\n"
          ]
        }
      ]
    },
    {
      "cell_type": "code",
      "source": [
        "#plot the image by passing in the 28x28 matrix\n",
        "\n",
        "plt.imshow(img_tensor[0,10:15,10:15], cmap = 'grey');"
      ],
      "metadata": {
        "colab": {
          "base_uri": "https://localhost:8080/",
          "height": 430
        },
        "id": "Rn7-gBTNY6by",
        "outputId": "925a5490-bca0-4b40-91f6-9665f1ec7df2"
      },
      "execution_count": null,
      "outputs": [
        {
          "output_type": "display_data",
          "data": {
            "text/plain": [
              "<Figure size 640x480 with 1 Axes>"
            ],
            "image/png": "[encoded data removed]"
          },
          "metadata": {}
        }
      ]
    },
    {
      "cell_type": "markdown",
      "source": [
        "# We will be divinding the data into test, train and validation."
      ],
      "metadata": {
        "id": "sfpc2xgFaxbU"
      }
    },
    {
      "cell_type": "markdown",
      "source": [
        "MNIST dataset has 6000 train images and 10000 test images by default.\n",
        "We will be selecting some images for validation from train images."
      ],
      "metadata": {
        "id": "3VS5zjXWa7yg"
      }
    },
    {
      "cell_type": "markdown",
      "source": [
        "We can do this by random_split method from pytorch"
      ],
      "metadata": {
        "id": "FmAcl6nIbOnq"
      }
    },
    {
      "cell_type": "code",
      "source": [
        "from torch.utils.data import random_split\n",
        "\n",
        "train_ds, val_ds = random_split(dataset, [50000, 10000])\n",
        "\n",
        "len(train_ds), len(val_ds)"
      ],
      "metadata": {
        "colab": {
          "base_uri": "https://localhost:8080/"
        },
        "id": "cwP5lfGKZjUW",
        "outputId": "24dfc9e2-881a-4b79-9e7d-eae057b6df9f"
      },
      "execution_count": null,
      "outputs": [
        {
          "output_type": "execute_result",
          "data": {
            "text/plain": [
              "(50000, 10000)"
            ]
          },
          "metadata": {},
          "execution_count": 18
        }
      ]
    },
    {
      "cell_type": "markdown",
      "source": [
        "Now we will load the images in dataloader as the number of images is very large"
      ],
      "metadata": {
        "id": "aLhJ_YtYebLM"
      }
    },
    {
      "cell_type": "code",
      "source": [
        "from torch.utils.data import DataLoader"
      ],
      "metadata": {
        "id": "Fsp4jZIibYJd"
      },
      "execution_count": null,
      "outputs": []
    },
    {
      "cell_type": "code",
      "source": [
        "batch_size = 128\n",
        "\n",
        "train_loader = DataLoader(train_ds, batch_size, shuffle = True)\n",
        "val_loader = DataLoader(val_ds, batch_size)"
      ],
      "metadata": {
        "id": "2ttBtDZiencu"
      },
      "execution_count": null,
      "outputs": []
    },
    {
      "cell_type": "markdown",
      "source": [
        "# Model\n"
      ],
      "metadata": {
        "id": "RcL__bB8YUSn"
      }
    },
    {
      "cell_type": "markdown",
      "source": [
        "Now we will define our model\n",
        "\n",
        "our model is **Logistic Regression** it has the same formula pred = x @ w.t() + b\n",
        "\n",
        "Just like linear regression we can use nn.linear to create the model intead of defining weights manually\n",
        "\n",
        "We have training data in images (1 x 28 x 28 ) which needs to be flattened out into a vector size of 784 (28*28) before being passed into model.\n",
        "\n",
        "the output can be from 0 till 9. The predicted label for an image is simply the one with the highest probability."
      ],
      "metadata": {
        "id": "Dt93Rw2UYWOW"
      }
    },
    {
      "cell_type": "code",
      "source": [
        "import torch.nn as nn"
      ],
      "metadata": {
        "id": "c_KZcVB6e96z"
      },
      "execution_count": null,
      "outputs": []
    },
    {
      "cell_type": "code",
      "source": [
        "input_size = 28*28\n",
        "num_classes = 10\n",
        "\n",
        "#Logistic regression model\n",
        "\n",
        "model = nn.Linear(input_size, num_classes)"
      ],
      "metadata": {
        "id": "8K1KB0bNZpTD"
      },
      "execution_count": null,
      "outputs": []
    },
    {
      "cell_type": "markdown",
      "source": [
        "This model is larger so we will have to look at the weights"
      ],
      "metadata": {
        "id": "_cvFw0pkaQDV"
      }
    },
    {
      "cell_type": "code",
      "source": [
        "print(model.weight.shape)"
      ],
      "metadata": {
        "colab": {
          "base_uri": "https://localhost:8080/"
        },
        "id": "fOhjNlDlZ6bE",
        "outputId": "4efbb002-5abe-4d84-c59f-0dc39d8aa71c"
      },
      "execution_count": null,
      "outputs": [
        {
          "output_type": "stream",
          "name": "stdout",
          "text": [
            "torch.Size([10, 784])\n"
          ]
        }
      ]
    },
    {
      "cell_type": "code",
      "source": [
        "print(model.bias.shape)"
      ],
      "metadata": {
        "colab": {
          "base_uri": "https://localhost:8080/"
        },
        "id": "wr4w4TReaaht",
        "outputId": "25339679-0a8f-45d6-f450-daf11664389f"
      },
      "execution_count": null,
      "outputs": [
        {
          "output_type": "stream",
          "name": "stdout",
          "text": [
            "torch.Size([10])\n"
          ]
        }
      ]
    },
    {
      "cell_type": "markdown",
      "source": [
        "Lets try to generate our output for our first batch"
      ],
      "metadata": {
        "id": "J5t1NV_narJ0"
      }
    },
    {
      "cell_type": "code",
      "source": [
        "for images, labels in train_loader:\n",
        "  print(labels)\n",
        "  print(images.shape)\n",
        "  output = model(images)\n",
        "  break"
      ],
      "metadata": {
        "colab": {
          "base_uri": "https://localhost:8080/",
          "height": 460
        },
        "id": "jTo3VX83ae7x",
        "outputId": "c16360f1-a8f7-4ede-df1c-5546f18b3f0b"
      },
      "execution_count": null,
      "outputs": [
        {
          "output_type": "stream",
          "name": "stdout",
          "text": [
            "tensor([3, 6, 7, 5, 9, 8, 8, 8, 6, 2, 4, 2, 0, 4, 4, 5, 0, 1, 8, 4, 0, 1, 7, 2,\n",
            "        2, 7, 3, 1, 5, 8, 0, 2, 9, 6, 2, 1, 0, 1, 4, 7, 6, 1, 0, 8, 8, 4, 0, 7,\n",
            "        4, 9, 1, 2, 4, 0, 8, 6, 2, 5, 1, 3, 5, 6, 2, 1, 8, 0, 5, 2, 8, 7, 9, 8,\n",
            "        0, 1, 8, 6, 8, 3, 7, 8, 3, 1, 3, 9, 3, 2, 0, 8, 8, 9, 4, 8, 7, 4, 4, 6,\n",
            "        5, 8, 4, 6, 9, 8, 0, 0, 3, 8, 1, 5, 4, 8, 6, 6, 4, 3, 4, 8, 1, 6, 3, 6,\n",
            "        6, 8, 3, 6, 2, 9, 2, 1])\n",
            "torch.Size([128, 1, 28, 28])\n"
          ]
        },
        {
          "output_type": "error",
          "ename": "RuntimeError",
          "evalue": "mat1 and mat2 shapes cannot be multiplied (3584x28 and 784x10)",
          "traceback": [
            "\u001b[0;31m---------------------------------------------------------------------------\u001b[0m",
            "\u001b[0;31mRuntimeError\u001b[0m                              Traceback (most recent call last)",
            "\u001b[0;32m<ipython-input-26-ecd2248f7619>\u001b[0m in \u001b[0;36m<cell line: 1>\u001b[0;34m()\u001b[0m\n\u001b[1;32m      2\u001b[0m   \u001b[0mprint\u001b[0m\u001b[0;34m(\u001b[0m\u001b[0mlabels\u001b[0m\u001b[0;34m)\u001b[0m\u001b[0;34m\u001b[0m\u001b[0;34m\u001b[0m\u001b[0m\n\u001b[1;32m      3\u001b[0m   \u001b[0mprint\u001b[0m\u001b[0;34m(\u001b[0m\u001b[0mimages\u001b[0m\u001b[0;34m.\u001b[0m\u001b[0mshape\u001b[0m\u001b[0;34m)\u001b[0m\u001b[0;34m\u001b[0m\u001b[0;34m\u001b[0m\u001b[0m\n\u001b[0;32m----> 4\u001b[0;31m   \u001b[0moutput\u001b[0m \u001b[0;34m=\u001b[0m \u001b[0mmodel\u001b[0m\u001b[0;34m(\u001b[0m\u001b[0mimages\u001b[0m\u001b[0;34m)\u001b[0m\u001b[0;34m\u001b[0m\u001b[0;34m\u001b[0m\u001b[0m\n\u001b[0m\u001b[1;32m      5\u001b[0m   \u001b[0;32mbreak\u001b[0m\u001b[0;34m\u001b[0m\u001b[0;34m\u001b[0m\u001b[0m\n",
            "\u001b[0;32m/usr/local/lib/python3.10/dist-packages/torch/nn/modules/module.py\u001b[0m in \u001b[0;36m_wrapped_call_impl\u001b[0;34m(self, *args, **kwargs)\u001b[0m\n\u001b[1;32m   1734\u001b[0m             \u001b[0;32mreturn\u001b[0m \u001b[0mself\u001b[0m\u001b[0;34m.\u001b[0m\u001b[0m_compiled_call_impl\u001b[0m\u001b[0;34m(\u001b[0m\u001b[0;34m*\u001b[0m\u001b[0margs\u001b[0m\u001b[0;34m,\u001b[0m \u001b[0;34m**\u001b[0m\u001b[0mkwargs\u001b[0m\u001b[0;34m)\u001b[0m  \u001b[0;31m# type: ignore[misc]\u001b[0m\u001b[0;34m\u001b[0m\u001b[0;34m\u001b[0m\u001b[0m\n\u001b[1;32m   1735\u001b[0m         \u001b[0;32melse\u001b[0m\u001b[0;34m:\u001b[0m\u001b[0;34m\u001b[0m\u001b[0;34m\u001b[0m\u001b[0m\n\u001b[0;32m-> 1736\u001b[0;31m             \u001b[0;32mreturn\u001b[0m \u001b[0mself\u001b[0m\u001b[0;34m.\u001b[0m\u001b[0m_call_impl\u001b[0m\u001b[0;34m(\u001b[0m\u001b[0;34m*\u001b[0m\u001b[0margs\u001b[0m\u001b[0;34m,\u001b[0m \u001b[0;34m**\u001b[0m\u001b[0mkwargs\u001b[0m\u001b[0;34m)\u001b[0m\u001b[0;34m\u001b[0m\u001b[0;34m\u001b[0m\u001b[0m\n\u001b[0m\u001b[1;32m   1737\u001b[0m \u001b[0;34m\u001b[0m\u001b[0m\n\u001b[1;32m   1738\u001b[0m     \u001b[0;31m# torchrec tests the code consistency with the following code\u001b[0m\u001b[0;34m\u001b[0m\u001b[0;34m\u001b[0m\u001b[0m\n",
            "\u001b[0;32m/usr/local/lib/python3.10/dist-packages/torch/nn/modules/module.py\u001b[0m in \u001b[0;36m_call_impl\u001b[0;34m(self, *args, **kwargs)\u001b[0m\n\u001b[1;32m   1745\u001b[0m                 \u001b[0;32mor\u001b[0m \u001b[0m_global_backward_pre_hooks\u001b[0m \u001b[0;32mor\u001b[0m \u001b[0m_global_backward_hooks\u001b[0m\u001b[0;34m\u001b[0m\u001b[0;34m\u001b[0m\u001b[0m\n\u001b[1;32m   1746\u001b[0m                 or _global_forward_hooks or _global_forward_pre_hooks):\n\u001b[0;32m-> 1747\u001b[0;31m             \u001b[0;32mreturn\u001b[0m \u001b[0mforward_call\u001b[0m\u001b[0;34m(\u001b[0m\u001b[0;34m*\u001b[0m\u001b[0margs\u001b[0m\u001b[0;34m,\u001b[0m \u001b[0;34m**\u001b[0m\u001b[0mkwargs\u001b[0m\u001b[0;34m)\u001b[0m\u001b[0;34m\u001b[0m\u001b[0;34m\u001b[0m\u001b[0m\n\u001b[0m\u001b[1;32m   1748\u001b[0m \u001b[0;34m\u001b[0m\u001b[0m\n\u001b[1;32m   1749\u001b[0m         \u001b[0mresult\u001b[0m \u001b[0;34m=\u001b[0m \u001b[0;32mNone\u001b[0m\u001b[0;34m\u001b[0m\u001b[0;34m\u001b[0m\u001b[0m\n",
            "\u001b[0;32m/usr/local/lib/python3.10/dist-packages/torch/nn/modules/linear.py\u001b[0m in \u001b[0;36mforward\u001b[0;34m(self, input)\u001b[0m\n\u001b[1;32m    123\u001b[0m \u001b[0;34m\u001b[0m\u001b[0m\n\u001b[1;32m    124\u001b[0m     \u001b[0;32mdef\u001b[0m \u001b[0mforward\u001b[0m\u001b[0;34m(\u001b[0m\u001b[0mself\u001b[0m\u001b[0;34m,\u001b[0m \u001b[0minput\u001b[0m\u001b[0;34m:\u001b[0m \u001b[0mTensor\u001b[0m\u001b[0;34m)\u001b[0m \u001b[0;34m->\u001b[0m \u001b[0mTensor\u001b[0m\u001b[0;34m:\u001b[0m\u001b[0;34m\u001b[0m\u001b[0;34m\u001b[0m\u001b[0m\n\u001b[0;32m--> 125\u001b[0;31m         \u001b[0;32mreturn\u001b[0m \u001b[0mF\u001b[0m\u001b[0;34m.\u001b[0m\u001b[0mlinear\u001b[0m\u001b[0;34m(\u001b[0m\u001b[0minput\u001b[0m\u001b[0;34m,\u001b[0m \u001b[0mself\u001b[0m\u001b[0;34m.\u001b[0m\u001b[0mweight\u001b[0m\u001b[0;34m,\u001b[0m \u001b[0mself\u001b[0m\u001b[0;34m.\u001b[0m\u001b[0mbias\u001b[0m\u001b[0;34m)\u001b[0m\u001b[0;34m\u001b[0m\u001b[0;34m\u001b[0m\u001b[0m\n\u001b[0m\u001b[1;32m    126\u001b[0m \u001b[0;34m\u001b[0m\u001b[0m\n\u001b[1;32m    127\u001b[0m     \u001b[0;32mdef\u001b[0m \u001b[0mextra_repr\u001b[0m\u001b[0;34m(\u001b[0m\u001b[0mself\u001b[0m\u001b[0;34m)\u001b[0m \u001b[0;34m->\u001b[0m \u001b[0mstr\u001b[0m\u001b[0;34m:\u001b[0m\u001b[0;34m\u001b[0m\u001b[0;34m\u001b[0m\u001b[0m\n",
            "\u001b[0;31mRuntimeError\u001b[0m: mat1 and mat2 shapes cannot be multiplied (3584x28 and 784x10)"
          ]
        }
      ]
    },
    {
      "cell_type": "markdown",
      "source": [
        "As the shapes are not equal so we can not multiply them.\n",
        "\n",
        "We will have to flatten the images.\n",
        "\n",
        "So there will be additional functionality involve and we can not use nn.linear anymore we will have to use nn.module now\n"
      ],
      "metadata": {
        "id": "LOHTQKQjbv1U"
      }
    },
    {
      "cell_type": "code",
      "source": [
        "class MnistModel(nn.Module):\n",
        "  def __init__(self):\n",
        "    super().__init__()\n",
        "    self.linear = nn.Linear(input_size, num_classes)\n",
        "\n",
        "  def forward(self,xb):\n",
        "      xb = xb.reshape(-1, 784)\n",
        "      out = self.linear(xb)\n",
        "      return out\n",
        "\n",
        "model = MnistModel()"
      ],
      "metadata": {
        "id": "dJ7cohaBa4Zy"
      },
      "execution_count": null,
      "outputs": []
    },
    {
      "cell_type": "code",
      "source": [
        "print(model.linear.weight.shape, model.linear.bias.shape)\n",
        "list(model.parameters())"
      ],
      "metadata": {
        "colab": {
          "base_uri": "https://localhost:8080/"
        },
        "id": "Nilq8YSncVU4",
        "outputId": "a8f0d773-cfdf-462f-afb9-b5db05887390"
      },
      "execution_count": null,
      "outputs": [
        {
          "output_type": "stream",
          "name": "stdout",
          "text": [
            "torch.Size([10, 784]) torch.Size([10])\n"
          ]
        },
        {
          "output_type": "execute_result",
          "data": {
            "text/plain": [
              "[Parameter containing:\n",
              " tensor([[-0.0257,  0.0180,  0.0111,  ..., -0.0317,  0.0119, -0.0239],\n",
              "         [-0.0264, -0.0214, -0.0120,  ..., -0.0108,  0.0030,  0.0076],\n",
              "         [ 0.0148,  0.0109,  0.0033,  ..., -0.0244,  0.0100,  0.0067],\n",
              "         ...,\n",
              "         [-0.0335, -0.0261, -0.0111,  ..., -0.0287,  0.0221, -0.0304],\n",
              "         [-0.0185, -0.0352,  0.0146,  ...,  0.0296, -0.0096,  0.0286],\n",
              "         [-0.0062, -0.0064, -0.0325,  ...,  0.0079, -0.0174, -0.0252]],\n",
              "        requires_grad=True),\n",
              " Parameter containing:\n",
              " tensor([ 0.0243,  0.0123,  0.0288,  0.0020, -0.0115,  0.0246, -0.0055, -0.0141,\n",
              "          0.0156,  0.0209], requires_grad=True)]"
            ]
          },
          "metadata": {},
          "execution_count": 59
        }
      ]
    },
    {
      "cell_type": "markdown",
      "source": [
        "Now after changing the shape lets try to use the custom model again"
      ],
      "metadata": {
        "id": "02xdyqjmgXgx"
      }
    },
    {
      "cell_type": "code",
      "source": [
        "for images, labels in train_loader:\n",
        "    output = model(images)\n",
        "    break\n",
        "\n",
        "\n",
        "print(\"Output shape:\" ,output.shape)\n",
        "print('Sample output:', output.shape[:2])"
      ],
      "metadata": {
        "colab": {
          "base_uri": "https://localhost:8080/"
        },
        "id": "-x4FFn5vgM1e",
        "outputId": "9c20cf7e-6053-48c3-be0f-c727c22693f9"
      },
      "execution_count": null,
      "outputs": [
        {
          "output_type": "stream",
          "name": "stdout",
          "text": [
            "Output shape: torch.Size([128, 10])\n",
            "Sample output: torch.Size([128, 10])\n"
          ]
        }
      ]
    },
    {
      "cell_type": "markdown",
      "source": [
        "To convert output rows in probabiility. We can use softmax function."
      ],
      "metadata": {
        "id": "seKn0YggjUiB"
      }
    },
    {
      "cell_type": "code",
      "source": [
        "import torch.nn.functional as F"
      ],
      "metadata": {
        "id": "M_L9dzqwhOY-"
      },
      "execution_count": null,
      "outputs": []
    },
    {
      "cell_type": "code",
      "source": [
        "#Applying softmax function for each output row\n",
        "\n",
        "probs = F.softmax(output, dim = 1)\n",
        "\n",
        "#Look at sample porbability\n",
        "\n",
        "print('sample porbabilities:\\n', probs[:2])\n",
        "\n",
        "# Add the probabilities of an output row\n",
        "\n",
        "print('sum:', torch.sum(probs[0]))"
      ],
      "metadata": {
        "colab": {
          "base_uri": "https://localhost:8080/"
        },
        "id": "tuFslq7rj3Dn",
        "outputId": "ad2014b8-a36c-4e57-e3e9-b5c5baa72201"
      },
      "execution_count": null,
      "outputs": [
        {
          "output_type": "stream",
          "name": "stdout",
          "text": [
            "sample porbabilities:\n",
            " tensor([[0.1021, 0.1181, 0.0635, 0.0682, 0.0932, 0.1111, 0.1286, 0.1004, 0.1185,\n",
            "         0.0963],\n",
            "        [0.0867, 0.0887, 0.0830, 0.1059, 0.0963, 0.0991, 0.1143, 0.1104, 0.0875,\n",
            "         0.1280]], grad_fn=<SliceBackward0>)\n",
            "sum: tensor(1.0000, grad_fn=<SumBackward0>)\n"
          ]
        }
      ]
    },
    {
      "cell_type": "markdown",
      "source": [
        "Now we will determine which index of the element has the highest probability. This is done using torch.max"
      ],
      "metadata": {
        "id": "6I9CLI6-ljsA"
      }
    },
    {
      "cell_type": "code",
      "source": [
        "max_probs, preds = torch.max(probs, dim = 1)\n",
        "\n",
        "print(preds)\n",
        "print(max_probs)"
      ],
      "metadata": {
        "colab": {
          "base_uri": "https://localhost:8080/"
        },
        "id": "WSqCYhFSkhDU",
        "outputId": "a4ee6a8a-56d8-40fc-a7c0-46ed19ac9618"
      },
      "execution_count": null,
      "outputs": [
        {
          "output_type": "stream",
          "name": "stdout",
          "text": [
            "tensor([6, 9, 4, 2, 4, 1, 7, 7, 7, 1, 4, 6, 6, 6, 4, 4, 4, 2, 9, 7, 1, 7, 6, 6,\n",
            "        1, 6, 6, 6, 6, 7, 6, 7, 4, 1, 6, 6, 6, 4, 7, 1, 7, 7, 1, 1, 4, 2, 4, 1,\n",
            "        1, 6, 6, 7, 1, 6, 6, 5, 1, 9, 7, 1, 4, 6, 6, 1, 7, 4, 1, 1, 1, 6, 6, 7,\n",
            "        1, 1, 2, 1, 1, 4, 6, 4, 3, 7, 6, 6, 2, 6, 1, 7, 1, 6, 6, 6, 6, 4, 1, 2,\n",
            "        1, 6, 6, 4, 1, 6, 4, 6, 6, 7, 7, 5, 6, 6, 1, 1, 1, 7, 7, 1, 1, 6, 7, 6,\n",
            "        4, 7, 1, 1, 1, 6, 5, 1])\n",
            "tensor([0.1286, 0.1280, 0.1089, 0.1262, 0.1112, 0.1325, 0.1315, 0.1328, 0.1428,\n",
            "        0.1566, 0.1182, 0.1316, 0.1146, 0.1303, 0.1213, 0.1376, 0.1639, 0.1282,\n",
            "        0.1261, 0.1205, 0.1567, 0.1178, 0.1238, 0.1590, 0.1312, 0.1339, 0.1309,\n",
            "        0.1314, 0.1197, 0.1439, 0.1276, 0.1288, 0.1127, 0.1284, 0.1399, 0.1455,\n",
            "        0.1382, 0.1355, 0.1296, 0.1234, 0.1208, 0.1309, 0.1665, 0.1363, 0.1323,\n",
            "        0.1234, 0.1237, 0.1292, 0.1236, 0.1372, 0.1181, 0.1262, 0.1267, 0.1271,\n",
            "        0.1460, 0.1290, 0.1469, 0.1162, 0.1274, 0.1362, 0.1342, 0.1319, 0.1209,\n",
            "        0.1144, 0.1238, 0.1492, 0.1278, 0.1291, 0.1350, 0.1420, 0.1245, 0.1364,\n",
            "        0.1351, 0.1170, 0.1200, 0.1221, 0.1311, 0.1325, 0.1220, 0.1436, 0.1135,\n",
            "        0.1174, 0.1381, 0.1144, 0.1316, 0.1537, 0.1423, 0.1316, 0.1339, 0.1208,\n",
            "        0.1224, 0.1237, 0.1328, 0.1213, 0.1136, 0.1345, 0.1161, 0.1250, 0.1251,\n",
            "        0.1370, 0.1221, 0.1619, 0.1451, 0.1313, 0.1375, 0.1237, 0.1370, 0.1481,\n",
            "        0.1400, 0.1291, 0.1369, 0.1587, 0.1355, 0.1285, 0.1308, 0.1383, 0.1187,\n",
            "        0.1511, 0.1349, 0.1166, 0.1154, 0.1374, 0.1632, 0.1150, 0.1307, 0.1486,\n",
            "        0.1250, 0.1365], grad_fn=<MaxBackward0>)\n"
          ]
        }
      ]
    },
    {
      "cell_type": "code",
      "source": [
        "labels"
      ],
      "metadata": {
        "colab": {
          "base_uri": "https://localhost:8080/"
        },
        "id": "wwHD1l3rl8qJ",
        "outputId": "7f6dd9e2-91ec-4682-abac-808fd0440716"
      },
      "execution_count": null,
      "outputs": [
        {
          "output_type": "execute_result",
          "data": {
            "text/plain": [
              "tensor([1, 0, 3, 8, 8, 9, 4, 1, 5, 9, 0, 4, 6, 9, 6, 3, 7, 6, 9, 3, 1, 3, 5, 9,\n",
              "        1, 5, 0, 3, 0, 4, 7, 5, 5, 0, 0, 4, 1, 8, 1, 0, 9, 4, 0, 1, 7, 1, 1, 2,\n",
              "        6, 6, 3, 3, 1, 1, 7, 9, 2, 8, 1, 1, 1, 2, 5, 0, 6, 9, 2, 0, 1, 6, 8, 1,\n",
              "        4, 3, 5, 2, 0, 4, 0, 6, 4, 1, 0, 9, 5, 7, 8, 5, 4, 5, 9, 3, 9, 4, 1, 5,\n",
              "        7, 7, 7, 8, 8, 8, 7, 1, 6, 9, 3, 9, 8, 6, 0, 1, 9, 8, 6, 8, 9, 1, 9, 0,\n",
              "        0, 7, 6, 5, 0, 5, 0, 7])"
            ]
          },
          "metadata": {},
          "execution_count": 42
        }
      ]
    },
    {
      "cell_type": "markdown",
      "source": [
        "Predicted values and actual labels are different. We will have to adjust weight and bias"
      ],
      "metadata": {
        "id": "M7QE6GnamZ1Y"
      }
    },
    {
      "cell_type": "markdown",
      "source": [
        "lets check the accuracy\n"
      ],
      "metadata": {
        "id": "QnMciFi2nVzg"
      }
    },
    {
      "cell_type": "code",
      "source": [
        "def accuracy(preds, labels):\n",
        "    _, preds = (torch.max(preds, dim = 1))\n",
        "    return torch.tensor(torch.sum(preds == labels).item()/len(preds))"
      ],
      "metadata": {
        "id": "kKzbZFuGmBMu"
      },
      "execution_count": null,
      "outputs": []
    },
    {
      "cell_type": "code",
      "source": [
        "accuracy(output,labels)"
      ],
      "metadata": {
        "colab": {
          "base_uri": "https://localhost:8080/"
        },
        "id": "87SZRbRDn0-e",
        "outputId": "2bfe9f84-be9a-41cd-da6d-c27294d069ab"
      },
      "execution_count": null,
      "outputs": [
        {
          "output_type": "execute_result",
          "data": {
            "text/plain": [
              "tensor(0.0625)"
            ]
          },
          "metadata": {},
          "execution_count": 70
        }
      ]
    },
    {
      "cell_type": "markdown",
      "source": [
        "# Cross Entropy"
      ],
      "metadata": {
        "id": "I9xoBTSe2fLy"
      }
    },
    {
      "cell_type": "code",
      "source": [
        "loss_fn = F.cross_entropy"
      ],
      "metadata": {
        "id": "sLbYWo2qoFK6"
      },
      "execution_count": null,
      "outputs": []
    },
    {
      "cell_type": "code",
      "source": [
        "#Loss for current batch of data\n",
        "\n",
        "Loss = loss_fn(output,labels)\n",
        "print(Loss)"
      ],
      "metadata": {
        "colab": {
          "base_uri": "https://localhost:8080/"
        },
        "id": "TA5fS2Nh3KSx",
        "outputId": "46d8f5b5-f4dc-4738-92ce-65a4847bf484"
      },
      "execution_count": null,
      "outputs": [
        {
          "output_type": "stream",
          "name": "stdout",
          "text": [
            "tensor(2.3042, grad_fn=<NllLossBackward0>)\n"
          ]
        }
      ]
    },
    {
      "cell_type": "markdown",
      "source": [
        "# Train the model\n",
        "\n",
        "Now that we have defined the data loaders,model,loss function and optimizer, we are ready to train the model. The training phase is identical to linear regression with the addtition of a validation phase to evaluate the model in each epoch.\n",
        "\n",
        "Here is the pseudocode for the step:"
      ],
      "metadata": {
        "id": "minmxpO_BGnr"
      }
    },
    {
      "cell_type": "code",
      "source": [
        "#for epoch in range(num_epochs):\n",
        "  #Training phase\n",
        "#  for batch in train_loader:\n",
        "    #Generate predictions.\n",
        "    #Calculate loss.\n",
        "    #Compute gradient.\n",
        "    #Update weights.\n",
        "    #Reset Gradients.\n",
        "\n",
        "  #Validation phase\n",
        "#  for batch in val_loader:\n",
        "    #Generate predictions.\n",
        "    #Calculate loss.\n",
        "    #Calculate matrics(accuracy etc)\n",
        "\n",
        "  #Calculate average validation loss and matrices\n",
        "\n",
        "  #log epoch, loss & matrics for inspection\n",
        "\n",
        "\n",
        "\n",
        "\n"
      ],
      "metadata": {
        "id": "QHb7HErM3dqj"
      },
      "execution_count": null,
      "outputs": []
    },
    {
      "cell_type": "markdown",
      "source": [
        "In this loop we have some steps that are generic and some are problem specific. Steps which are problem specific we will add the with our Mnist class"
      ],
      "metadata": {
        "id": "vMcExqvmDelt"
      }
    },
    {
      "cell_type": "code",
      "source": [
        "class MnistModel(nn.Module):\n",
        "  def __init__(self):       #predefined\n",
        "    super().__init__()      #predefined\n",
        "    self.linear = nn.Linear(input_size, num_classes)   #nnlinear is provided with arguments of input size and num classes.\n",
        "\n",
        "  def forward(self,xb):\n",
        "      xb = xb.reshape(-1, 784)  # Training steps are given two arguments to run thorugh and xb is given to be reshaped into vector so that it can be used\n",
        "      out = self.linear(xb)\n",
        "      return out\n",
        "\n",
        "  def training_step(self,batch):\n",
        "        images, labels = batch\n",
        "        out = self(images)                #Generate predictions\n",
        "        loss = F.cross_entropy(out,labels)    # Calculate loss\n",
        "        return loss\n",
        "\n",
        "  def validation_step(self,batch):\n",
        "        images, labels = batch\n",
        "        out = self(images)                #Generate predictions\n",
        "        loss = F.cross_entropy(out,labels)    # Calculate loss\n",
        "        acc = accuracy(out,labels)          # Calculate accuracy\n",
        "        return{'val_loss': loss, 'val_acc' : acc}\n",
        "\n",
        "\n",
        "\n",
        "  def validation_epoch_end(self, outputs):\n",
        "        batch_losses = [x['val_loss'] for x in outputs]\n",
        "        epoch_loss = torch.stack(batch_losses).mean()   #Combine losses\n",
        "        batch_accs = [x['val_acc'] for x in outputs]\n",
        "        epoch_acc = torch.stack(batch_accs).mean()      #Combine accuracies\n",
        "        return {'val_loss': epoch_loss.item(), 'val_acc': epoch_acc.item()}\n",
        "\n",
        "\n",
        "  def epoch_end(self, epoch, result):\n",
        "        print(\"Epoch [{}], val_loss: {:.4f}, val_acc: {:.4f}\".format(epoch, result['val_loss'], result['val_acc']))\n",
        "\n",
        "model = MnistModel()\n",
        "\n",
        "\n",
        "\n"
      ],
      "metadata": {
        "id": "4cudN0Q7DPde"
      },
      "execution_count": null,
      "outputs": []
    },
    {
      "cell_type": "markdown",
      "source": [
        "# Validation and Fit the model\n",
        "\n",
        "Now we will define an evaluate function, which will perform the validation phase and a fit function which will perform the entire training process\n"
      ],
      "metadata": {
        "id": "LQIZkIfJmRhN"
      }
    },
    {
      "cell_type": "code",
      "source": [
        "def evaluate(model, val_loader):\n",
        "  output = [model.validation_step(batch) for batch in val_loader]\n",
        "  return model.validation_epoch_end(output)\n",
        "\n",
        "def fit(epochs, lr, model, train_loader, val_loader, opt_func = torch.optim.SGD):\n",
        "  history = []\n",
        "  optimizer = opt_func(model.parameters(), lr)\n",
        "  for epoch in range(epochs):\n",
        "    #Training phase\n",
        "    for batch in train_loader:\n",
        "      loss = model.training_step(batch)\n",
        "      loss.backward()\n",
        "      optimizer.step()\n",
        "      optimizer.zero_grad()\n",
        "\n",
        "      #Validation phase\n",
        "      result = evaluate(model, val_loader)\n",
        "      model.epoch_end(epoch, result)\n",
        "      history.append(result)\n",
        "    return history"
      ],
      "metadata": {
        "id": "DmHXgeZjEvwf"
      },
      "execution_count": null,
      "outputs": []
    },
    {
      "cell_type": "code",
      "source": [
        "result0 = evaluate(model, val_loader)"
      ],
      "metadata": {
        "id": "zuC7HRC-qK2v"
      },
      "execution_count": null,
      "outputs": []
    },
    {
      "cell_type": "code",
      "source": [
        "result0"
      ],
      "metadata": {
        "colab": {
          "base_uri": "https://localhost:8080/"
        },
        "id": "UKXUKg-Trl6U",
        "outputId": "6b3a1c50-8893-4ddf-99a4-5e5d6e6ad79c"
      },
      "execution_count": null,
      "outputs": [
        {
          "output_type": "execute_result",
          "data": {
            "text/plain": [
              "{'val_loss': 2.330566883087158, 'val_acc': 0.08771756291389465}"
            ]
          },
          "metadata": {},
          "execution_count": 75
        }
      ]
    },
    {
      "cell_type": "code",
      "source": [
        "history1 = fit(5, 0.001, model, train_loader, val_loader)\n"
      ],
      "metadata": {
        "colab": {
          "base_uri": "https://localhost:8080/"
        },
        "id": "3BrejyVht3Bj",
        "outputId": "91d015c3-cd79-4878-98ef-dd3c88758611"
      },
      "execution_count": null,
      "outputs": [
        {
          "output_type": "stream",
          "name": "stdout",
          "text": [
            "Epoch [0], val_loss: 2.3295, val_acc: 0.0881\n",
            "Epoch [0], val_loss: 2.3283, val_acc: 0.0883\n",
            "Epoch [0], val_loss: 2.3270, val_acc: 0.0890\n",
            "Epoch [0], val_loss: 2.3258, val_acc: 0.0896\n",
            "Epoch [0], val_loss: 2.3248, val_acc: 0.0899\n",
            "Epoch [0], val_loss: 2.3235, val_acc: 0.0900\n",
            "Epoch [0], val_loss: 2.3226, val_acc: 0.0903\n",
            "Epoch [0], val_loss: 2.3215, val_acc: 0.0907\n",
            "Epoch [0], val_loss: 2.3204, val_acc: 0.0914\n",
            "Epoch [0], val_loss: 2.3192, val_acc: 0.0918\n",
            "Epoch [0], val_loss: 2.3180, val_acc: 0.0922\n",
            "Epoch [0], val_loss: 2.3169, val_acc: 0.0926\n",
            "Epoch [0], val_loss: 2.3158, val_acc: 0.0941\n",
            "Epoch [0], val_loss: 2.3147, val_acc: 0.0949\n",
            "Epoch [0], val_loss: 2.3134, val_acc: 0.0954\n",
            "Epoch [0], val_loss: 2.3123, val_acc: 0.0962\n",
            "Epoch [0], val_loss: 2.3112, val_acc: 0.0969\n",
            "Epoch [0], val_loss: 2.3101, val_acc: 0.0974\n",
            "Epoch [0], val_loss: 2.3091, val_acc: 0.0979\n",
            "Epoch [0], val_loss: 2.3079, val_acc: 0.0985\n",
            "Epoch [0], val_loss: 2.3068, val_acc: 0.0999\n",
            "Epoch [0], val_loss: 2.3056, val_acc: 0.1008\n",
            "Epoch [0], val_loss: 2.3046, val_acc: 0.1014\n",
            "Epoch [0], val_loss: 2.3036, val_acc: 0.1020\n",
            "Epoch [0], val_loss: 2.3024, val_acc: 0.1024\n",
            "Epoch [0], val_loss: 2.3014, val_acc: 0.1031\n",
            "Epoch [0], val_loss: 2.3002, val_acc: 0.1042\n",
            "Epoch [0], val_loss: 2.2992, val_acc: 0.1045\n",
            "Epoch [0], val_loss: 2.2979, val_acc: 0.1063\n",
            "Epoch [0], val_loss: 2.2968, val_acc: 0.1068\n",
            "Epoch [0], val_loss: 2.2957, val_acc: 0.1067\n",
            "Epoch [0], val_loss: 2.2946, val_acc: 0.1073\n",
            "Epoch [0], val_loss: 2.2935, val_acc: 0.1075\n",
            "Epoch [0], val_loss: 2.2924, val_acc: 0.1081\n",
            "Epoch [0], val_loss: 2.2915, val_acc: 0.1085\n",
            "Epoch [0], val_loss: 2.2903, val_acc: 0.1092\n",
            "Epoch [0], val_loss: 2.2894, val_acc: 0.1097\n",
            "Epoch [0], val_loss: 2.2884, val_acc: 0.1106\n",
            "Epoch [0], val_loss: 2.2872, val_acc: 0.1123\n",
            "Epoch [0], val_loss: 2.2860, val_acc: 0.1125\n",
            "Epoch [0], val_loss: 2.2849, val_acc: 0.1134\n",
            "Epoch [0], val_loss: 2.2839, val_acc: 0.1137\n",
            "Epoch [0], val_loss: 2.2828, val_acc: 0.1149\n",
            "Epoch [0], val_loss: 2.2817, val_acc: 0.1153\n",
            "Epoch [0], val_loss: 2.2806, val_acc: 0.1164\n",
            "Epoch [0], val_loss: 2.2794, val_acc: 0.1170\n",
            "Epoch [0], val_loss: 2.2784, val_acc: 0.1182\n",
            "Epoch [0], val_loss: 2.2773, val_acc: 0.1188\n",
            "Epoch [0], val_loss: 2.2762, val_acc: 0.1196\n",
            "Epoch [0], val_loss: 2.2751, val_acc: 0.1206\n",
            "Epoch [0], val_loss: 2.2740, val_acc: 0.1220\n",
            "Epoch [0], val_loss: 2.2729, val_acc: 0.1231\n",
            "Epoch [0], val_loss: 2.2718, val_acc: 0.1244\n",
            "Epoch [0], val_loss: 2.2707, val_acc: 0.1247\n",
            "Epoch [0], val_loss: 2.2695, val_acc: 0.1270\n",
            "Epoch [0], val_loss: 2.2684, val_acc: 0.1280\n",
            "Epoch [0], val_loss: 2.2673, val_acc: 0.1298\n",
            "Epoch [0], val_loss: 2.2663, val_acc: 0.1307\n",
            "Epoch [0], val_loss: 2.2652, val_acc: 0.1317\n",
            "Epoch [0], val_loss: 2.2641, val_acc: 0.1331\n",
            "Epoch [0], val_loss: 2.2631, val_acc: 0.1344\n",
            "Epoch [0], val_loss: 2.2620, val_acc: 0.1356\n",
            "Epoch [0], val_loss: 2.2608, val_acc: 0.1368\n",
            "Epoch [0], val_loss: 2.2596, val_acc: 0.1392\n",
            "Epoch [0], val_loss: 2.2586, val_acc: 0.1408\n",
            "Epoch [0], val_loss: 2.2575, val_acc: 0.1426\n",
            "Epoch [0], val_loss: 2.2563, val_acc: 0.1445\n",
            "Epoch [0], val_loss: 2.2553, val_acc: 0.1461\n",
            "Epoch [0], val_loss: 2.2540, val_acc: 0.1475\n",
            "Epoch [0], val_loss: 2.2530, val_acc: 0.1496\n",
            "Epoch [0], val_loss: 2.2518, val_acc: 0.1508\n",
            "Epoch [0], val_loss: 2.2506, val_acc: 0.1534\n",
            "Epoch [0], val_loss: 2.2495, val_acc: 0.1562\n",
            "Epoch [0], val_loss: 2.2485, val_acc: 0.1568\n",
            "Epoch [0], val_loss: 2.2473, val_acc: 0.1594\n",
            "Epoch [0], val_loss: 2.2462, val_acc: 0.1611\n",
            "Epoch [0], val_loss: 2.2450, val_acc: 0.1635\n",
            "Epoch [0], val_loss: 2.2440, val_acc: 0.1660\n",
            "Epoch [0], val_loss: 2.2429, val_acc: 0.1683\n",
            "Epoch [0], val_loss: 2.2418, val_acc: 0.1706\n",
            "Epoch [0], val_loss: 2.2407, val_acc: 0.1723\n",
            "Epoch [0], val_loss: 2.2398, val_acc: 0.1740\n",
            "Epoch [0], val_loss: 2.2387, val_acc: 0.1744\n",
            "Epoch [0], val_loss: 2.2376, val_acc: 0.1766\n",
            "Epoch [0], val_loss: 2.2366, val_acc: 0.1777\n",
            "Epoch [0], val_loss: 2.2354, val_acc: 0.1804\n",
            "Epoch [0], val_loss: 2.2344, val_acc: 0.1818\n",
            "Epoch [0], val_loss: 2.2333, val_acc: 0.1841\n",
            "Epoch [0], val_loss: 2.2323, val_acc: 0.1855\n",
            "Epoch [0], val_loss: 2.2312, val_acc: 0.1872\n",
            "Epoch [0], val_loss: 2.2301, val_acc: 0.1895\n",
            "Epoch [0], val_loss: 2.2290, val_acc: 0.1917\n",
            "Epoch [0], val_loss: 2.2280, val_acc: 0.1946\n",
            "Epoch [0], val_loss: 2.2269, val_acc: 0.1967\n",
            "Epoch [0], val_loss: 2.2259, val_acc: 0.1988\n",
            "Epoch [0], val_loss: 2.2248, val_acc: 0.2006\n",
            "Epoch [0], val_loss: 2.2239, val_acc: 0.2026\n",
            "Epoch [0], val_loss: 2.2228, val_acc: 0.2037\n",
            "Epoch [0], val_loss: 2.2216, val_acc: 0.2074\n",
            "Epoch [0], val_loss: 2.2205, val_acc: 0.2105\n",
            "Epoch [0], val_loss: 2.2195, val_acc: 0.2124\n",
            "Epoch [0], val_loss: 2.2184, val_acc: 0.2154\n",
            "Epoch [0], val_loss: 2.2174, val_acc: 0.2169\n",
            "Epoch [0], val_loss: 2.2165, val_acc: 0.2189\n",
            "Epoch [0], val_loss: 2.2153, val_acc: 0.2219\n",
            "Epoch [0], val_loss: 2.2142, val_acc: 0.2240\n",
            "Epoch [0], val_loss: 2.2132, val_acc: 0.2263\n",
            "Epoch [0], val_loss: 2.2122, val_acc: 0.2284\n",
            "Epoch [0], val_loss: 2.2111, val_acc: 0.2311\n",
            "Epoch [0], val_loss: 2.2100, val_acc: 0.2340\n",
            "Epoch [0], val_loss: 2.2090, val_acc: 0.2359\n",
            "Epoch [0], val_loss: 2.2081, val_acc: 0.2387\n",
            "Epoch [0], val_loss: 2.2070, val_acc: 0.2404\n",
            "Epoch [0], val_loss: 2.2059, val_acc: 0.2427\n",
            "Epoch [0], val_loss: 2.2049, val_acc: 0.2449\n",
            "Epoch [0], val_loss: 2.2040, val_acc: 0.2472\n",
            "Epoch [0], val_loss: 2.2030, val_acc: 0.2480\n",
            "Epoch [0], val_loss: 2.2020, val_acc: 0.2493\n",
            "Epoch [0], val_loss: 2.2010, val_acc: 0.2519\n",
            "Epoch [0], val_loss: 2.2000, val_acc: 0.2535\n",
            "Epoch [0], val_loss: 2.1990, val_acc: 0.2553\n",
            "Epoch [0], val_loss: 2.1981, val_acc: 0.2573\n",
            "Epoch [0], val_loss: 2.1970, val_acc: 0.2586\n",
            "Epoch [0], val_loss: 2.1961, val_acc: 0.2606\n",
            "Epoch [0], val_loss: 2.1951, val_acc: 0.2631\n",
            "Epoch [0], val_loss: 2.1940, val_acc: 0.2653\n",
            "Epoch [0], val_loss: 2.1932, val_acc: 0.2664\n",
            "Epoch [0], val_loss: 2.1922, val_acc: 0.2676\n",
            "Epoch [0], val_loss: 2.1912, val_acc: 0.2693\n",
            "Epoch [0], val_loss: 2.1902, val_acc: 0.2712\n",
            "Epoch [0], val_loss: 2.1892, val_acc: 0.2726\n",
            "Epoch [0], val_loss: 2.1881, val_acc: 0.2756\n",
            "Epoch [0], val_loss: 2.1871, val_acc: 0.2777\n",
            "Epoch [0], val_loss: 2.1861, val_acc: 0.2798\n",
            "Epoch [0], val_loss: 2.1851, val_acc: 0.2816\n",
            "Epoch [0], val_loss: 2.1841, val_acc: 0.2834\n",
            "Epoch [0], val_loss: 2.1831, val_acc: 0.2847\n",
            "Epoch [0], val_loss: 2.1821, val_acc: 0.2877\n",
            "Epoch [0], val_loss: 2.1810, val_acc: 0.2889\n",
            "Epoch [0], val_loss: 2.1800, val_acc: 0.2893\n",
            "Epoch [0], val_loss: 2.1790, val_acc: 0.2923\n",
            "Epoch [0], val_loss: 2.1778, val_acc: 0.2945\n",
            "Epoch [0], val_loss: 2.1767, val_acc: 0.2964\n",
            "Epoch [0], val_loss: 2.1758, val_acc: 0.3009\n",
            "Epoch [0], val_loss: 2.1749, val_acc: 0.3031\n",
            "Epoch [0], val_loss: 2.1738, val_acc: 0.3045\n",
            "Epoch [0], val_loss: 2.1728, val_acc: 0.3058\n",
            "Epoch [0], val_loss: 2.1719, val_acc: 0.3075\n",
            "Epoch [0], val_loss: 2.1708, val_acc: 0.3098\n",
            "Epoch [0], val_loss: 2.1699, val_acc: 0.3131\n",
            "Epoch [0], val_loss: 2.1689, val_acc: 0.3153\n",
            "Epoch [0], val_loss: 2.1679, val_acc: 0.3173\n",
            "Epoch [0], val_loss: 2.1669, val_acc: 0.3190\n",
            "Epoch [0], val_loss: 2.1660, val_acc: 0.3204\n",
            "Epoch [0], val_loss: 2.1650, val_acc: 0.3237\n",
            "Epoch [0], val_loss: 2.1639, val_acc: 0.3250\n",
            "Epoch [0], val_loss: 2.1629, val_acc: 0.3263\n",
            "Epoch [0], val_loss: 2.1619, val_acc: 0.3290\n",
            "Epoch [0], val_loss: 2.1609, val_acc: 0.3304\n",
            "Epoch [0], val_loss: 2.1600, val_acc: 0.3331\n",
            "Epoch [0], val_loss: 2.1589, val_acc: 0.3365\n",
            "Epoch [0], val_loss: 2.1579, val_acc: 0.3383\n",
            "Epoch [0], val_loss: 2.1571, val_acc: 0.3402\n",
            "Epoch [0], val_loss: 2.1561, val_acc: 0.3433\n",
            "Epoch [0], val_loss: 2.1550, val_acc: 0.3459\n",
            "Epoch [0], val_loss: 2.1540, val_acc: 0.3485\n",
            "Epoch [0], val_loss: 2.1532, val_acc: 0.3498\n",
            "Epoch [0], val_loss: 2.1523, val_acc: 0.3519\n",
            "Epoch [0], val_loss: 2.1512, val_acc: 0.3537\n",
            "Epoch [0], val_loss: 2.1504, val_acc: 0.3560\n",
            "Epoch [0], val_loss: 2.1492, val_acc: 0.3582\n",
            "Epoch [0], val_loss: 2.1483, val_acc: 0.3596\n",
            "Epoch [0], val_loss: 2.1473, val_acc: 0.3620\n",
            "Epoch [0], val_loss: 2.1464, val_acc: 0.3644\n",
            "Epoch [0], val_loss: 2.1454, val_acc: 0.3662\n",
            "Epoch [0], val_loss: 2.1446, val_acc: 0.3678\n",
            "Epoch [0], val_loss: 2.1436, val_acc: 0.3699\n",
            "Epoch [0], val_loss: 2.1426, val_acc: 0.3715\n",
            "Epoch [0], val_loss: 2.1416, val_acc: 0.3732\n",
            "Epoch [0], val_loss: 2.1407, val_acc: 0.3752\n",
            "Epoch [0], val_loss: 2.1397, val_acc: 0.3780\n",
            "Epoch [0], val_loss: 2.1388, val_acc: 0.3802\n",
            "Epoch [0], val_loss: 2.1378, val_acc: 0.3827\n",
            "Epoch [0], val_loss: 2.1369, val_acc: 0.3832\n",
            "Epoch [0], val_loss: 2.1358, val_acc: 0.3866\n",
            "Epoch [0], val_loss: 2.1348, val_acc: 0.3880\n",
            "Epoch [0], val_loss: 2.1339, val_acc: 0.3896\n",
            "Epoch [0], val_loss: 2.1329, val_acc: 0.3919\n",
            "Epoch [0], val_loss: 2.1321, val_acc: 0.3945\n",
            "Epoch [0], val_loss: 2.1311, val_acc: 0.3958\n",
            "Epoch [0], val_loss: 2.1302, val_acc: 0.3979\n",
            "Epoch [0], val_loss: 2.1293, val_acc: 0.3999\n",
            "Epoch [0], val_loss: 2.1283, val_acc: 0.4014\n",
            "Epoch [0], val_loss: 2.1273, val_acc: 0.4049\n",
            "Epoch [0], val_loss: 2.1264, val_acc: 0.4074\n",
            "Epoch [0], val_loss: 2.1254, val_acc: 0.4099\n",
            "Epoch [0], val_loss: 2.1244, val_acc: 0.4115\n",
            "Epoch [0], val_loss: 2.1235, val_acc: 0.4136\n",
            "Epoch [0], val_loss: 2.1227, val_acc: 0.4171\n",
            "Epoch [0], val_loss: 2.1218, val_acc: 0.4193\n",
            "Epoch [0], val_loss: 2.1209, val_acc: 0.4212\n",
            "Epoch [0], val_loss: 2.1201, val_acc: 0.4225\n",
            "Epoch [0], val_loss: 2.1191, val_acc: 0.4237\n",
            "Epoch [0], val_loss: 2.1182, val_acc: 0.4262\n",
            "Epoch [0], val_loss: 2.1174, val_acc: 0.4281\n",
            "Epoch [0], val_loss: 2.1164, val_acc: 0.4301\n",
            "Epoch [0], val_loss: 2.1155, val_acc: 0.4316\n",
            "Epoch [0], val_loss: 2.1146, val_acc: 0.4335\n",
            "Epoch [0], val_loss: 2.1136, val_acc: 0.4363\n",
            "Epoch [0], val_loss: 2.1126, val_acc: 0.4379\n",
            "Epoch [0], val_loss: 2.1116, val_acc: 0.4396\n",
            "Epoch [0], val_loss: 2.1107, val_acc: 0.4414\n",
            "Epoch [0], val_loss: 2.1097, val_acc: 0.4431\n",
            "Epoch [0], val_loss: 2.1088, val_acc: 0.4446\n",
            "Epoch [0], val_loss: 2.1079, val_acc: 0.4471\n",
            "Epoch [0], val_loss: 2.1070, val_acc: 0.4493\n",
            "Epoch [0], val_loss: 2.1061, val_acc: 0.4511\n",
            "Epoch [0], val_loss: 2.1051, val_acc: 0.4527\n",
            "Epoch [0], val_loss: 2.1042, val_acc: 0.4542\n",
            "Epoch [0], val_loss: 2.1033, val_acc: 0.4556\n",
            "Epoch [0], val_loss: 2.1024, val_acc: 0.4572\n",
            "Epoch [0], val_loss: 2.1014, val_acc: 0.4585\n",
            "Epoch [0], val_loss: 2.1004, val_acc: 0.4597\n",
            "Epoch [0], val_loss: 2.0995, val_acc: 0.4614\n",
            "Epoch [0], val_loss: 2.0986, val_acc: 0.4637\n",
            "Epoch [0], val_loss: 2.0978, val_acc: 0.4656\n",
            "Epoch [0], val_loss: 2.0968, val_acc: 0.4685\n",
            "Epoch [0], val_loss: 2.0958, val_acc: 0.4705\n",
            "Epoch [0], val_loss: 2.0950, val_acc: 0.4721\n",
            "Epoch [0], val_loss: 2.0941, val_acc: 0.4731\n",
            "Epoch [0], val_loss: 2.0931, val_acc: 0.4748\n",
            "Epoch [0], val_loss: 2.0922, val_acc: 0.4766\n",
            "Epoch [0], val_loss: 2.0913, val_acc: 0.4788\n",
            "Epoch [0], val_loss: 2.0905, val_acc: 0.4799\n",
            "Epoch [0], val_loss: 2.0896, val_acc: 0.4813\n",
            "Epoch [0], val_loss: 2.0887, val_acc: 0.4817\n",
            "Epoch [0], val_loss: 2.0877, val_acc: 0.4837\n",
            "Epoch [0], val_loss: 2.0869, val_acc: 0.4858\n",
            "Epoch [0], val_loss: 2.0860, val_acc: 0.4870\n",
            "Epoch [0], val_loss: 2.0850, val_acc: 0.4882\n",
            "Epoch [0], val_loss: 2.0841, val_acc: 0.4898\n",
            "Epoch [0], val_loss: 2.0832, val_acc: 0.4919\n",
            "Epoch [0], val_loss: 2.0822, val_acc: 0.4931\n",
            "Epoch [0], val_loss: 2.0813, val_acc: 0.4936\n",
            "Epoch [0], val_loss: 2.0804, val_acc: 0.4955\n",
            "Epoch [0], val_loss: 2.0795, val_acc: 0.4961\n",
            "Epoch [0], val_loss: 2.0787, val_acc: 0.4966\n",
            "Epoch [0], val_loss: 2.0778, val_acc: 0.4980\n",
            "Epoch [0], val_loss: 2.0769, val_acc: 0.5002\n",
            "Epoch [0], val_loss: 2.0759, val_acc: 0.5014\n",
            "Epoch [0], val_loss: 2.0750, val_acc: 0.5026\n",
            "Epoch [0], val_loss: 2.0740, val_acc: 0.5033\n",
            "Epoch [0], val_loss: 2.0731, val_acc: 0.5045\n",
            "Epoch [0], val_loss: 2.0722, val_acc: 0.5075\n",
            "Epoch [0], val_loss: 2.0712, val_acc: 0.5098\n",
            "Epoch [0], val_loss: 2.0702, val_acc: 0.5129\n",
            "Epoch [0], val_loss: 2.0694, val_acc: 0.5138\n",
            "Epoch [0], val_loss: 2.0685, val_acc: 0.5140\n",
            "Epoch [0], val_loss: 2.0675, val_acc: 0.5141\n",
            "Epoch [0], val_loss: 2.0666, val_acc: 0.5170\n",
            "Epoch [0], val_loss: 2.0656, val_acc: 0.5191\n",
            "Epoch [0], val_loss: 2.0647, val_acc: 0.5197\n",
            "Epoch [0], val_loss: 2.0638, val_acc: 0.5216\n",
            "Epoch [0], val_loss: 2.0629, val_acc: 0.5225\n",
            "Epoch [0], val_loss: 2.0619, val_acc: 0.5243\n",
            "Epoch [0], val_loss: 2.0611, val_acc: 0.5260\n",
            "Epoch [0], val_loss: 2.0602, val_acc: 0.5276\n",
            "Epoch [0], val_loss: 2.0592, val_acc: 0.5286\n",
            "Epoch [0], val_loss: 2.0584, val_acc: 0.5298\n",
            "Epoch [0], val_loss: 2.0575, val_acc: 0.5308\n",
            "Epoch [0], val_loss: 2.0566, val_acc: 0.5327\n",
            "Epoch [0], val_loss: 2.0556, val_acc: 0.5332\n",
            "Epoch [0], val_loss: 2.0547, val_acc: 0.5352\n",
            "Epoch [0], val_loss: 2.0538, val_acc: 0.5372\n",
            "Epoch [0], val_loss: 2.0528, val_acc: 0.5367\n",
            "Epoch [0], val_loss: 2.0520, val_acc: 0.5381\n",
            "Epoch [0], val_loss: 2.0510, val_acc: 0.5386\n",
            "Epoch [0], val_loss: 2.0501, val_acc: 0.5409\n",
            "Epoch [0], val_loss: 2.0492, val_acc: 0.5415\n",
            "Epoch [0], val_loss: 2.0482, val_acc: 0.5421\n",
            "Epoch [0], val_loss: 2.0474, val_acc: 0.5433\n",
            "Epoch [0], val_loss: 2.0466, val_acc: 0.5455\n",
            "Epoch [0], val_loss: 2.0457, val_acc: 0.5462\n",
            "Epoch [0], val_loss: 2.0448, val_acc: 0.5488\n",
            "Epoch [0], val_loss: 2.0439, val_acc: 0.5501\n",
            "Epoch [0], val_loss: 2.0431, val_acc: 0.5502\n",
            "Epoch [0], val_loss: 2.0422, val_acc: 0.5510\n",
            "Epoch [0], val_loss: 2.0413, val_acc: 0.5527\n",
            "Epoch [0], val_loss: 2.0404, val_acc: 0.5536\n",
            "Epoch [0], val_loss: 2.0395, val_acc: 0.5559\n",
            "Epoch [0], val_loss: 2.0386, val_acc: 0.5553\n",
            "Epoch [0], val_loss: 2.0376, val_acc: 0.5560\n",
            "Epoch [0], val_loss: 2.0368, val_acc: 0.5574\n",
            "Epoch [0], val_loss: 2.0360, val_acc: 0.5574\n",
            "Epoch [0], val_loss: 2.0351, val_acc: 0.5591\n",
            "Epoch [0], val_loss: 2.0341, val_acc: 0.5601\n",
            "Epoch [0], val_loss: 2.0333, val_acc: 0.5609\n",
            "Epoch [0], val_loss: 2.0325, val_acc: 0.5624\n",
            "Epoch [0], val_loss: 2.0316, val_acc: 0.5639\n",
            "Epoch [0], val_loss: 2.0307, val_acc: 0.5642\n",
            "Epoch [0], val_loss: 2.0298, val_acc: 0.5662\n",
            "Epoch [0], val_loss: 2.0289, val_acc: 0.5678\n",
            "Epoch [0], val_loss: 2.0281, val_acc: 0.5693\n",
            "Epoch [0], val_loss: 2.0272, val_acc: 0.5703\n",
            "Epoch [0], val_loss: 2.0263, val_acc: 0.5708\n",
            "Epoch [0], val_loss: 2.0254, val_acc: 0.5718\n",
            "Epoch [0], val_loss: 2.0245, val_acc: 0.5719\n",
            "Epoch [0], val_loss: 2.0235, val_acc: 0.5719\n",
            "Epoch [0], val_loss: 2.0226, val_acc: 0.5730\n",
            "Epoch [0], val_loss: 2.0218, val_acc: 0.5746\n",
            "Epoch [0], val_loss: 2.0210, val_acc: 0.5759\n",
            "Epoch [0], val_loss: 2.0201, val_acc: 0.5770\n",
            "Epoch [0], val_loss: 2.0192, val_acc: 0.5776\n",
            "Epoch [0], val_loss: 2.0184, val_acc: 0.5784\n",
            "Epoch [0], val_loss: 2.0176, val_acc: 0.5794\n",
            "Epoch [0], val_loss: 2.0167, val_acc: 0.5815\n",
            "Epoch [0], val_loss: 2.0159, val_acc: 0.5832\n",
            "Epoch [0], val_loss: 2.0150, val_acc: 0.5842\n",
            "Epoch [0], val_loss: 2.0142, val_acc: 0.5856\n",
            "Epoch [0], val_loss: 2.0133, val_acc: 0.5868\n",
            "Epoch [0], val_loss: 2.0124, val_acc: 0.5870\n",
            "Epoch [0], val_loss: 2.0115, val_acc: 0.5872\n",
            "Epoch [0], val_loss: 2.0106, val_acc: 0.5877\n",
            "Epoch [0], val_loss: 2.0098, val_acc: 0.5885\n",
            "Epoch [0], val_loss: 2.0089, val_acc: 0.5897\n",
            "Epoch [0], val_loss: 2.0080, val_acc: 0.5904\n",
            "Epoch [0], val_loss: 2.0072, val_acc: 0.5921\n",
            "Epoch [0], val_loss: 2.0063, val_acc: 0.5923\n",
            "Epoch [0], val_loss: 2.0055, val_acc: 0.5929\n",
            "Epoch [0], val_loss: 2.0046, val_acc: 0.5936\n",
            "Epoch [0], val_loss: 2.0039, val_acc: 0.5957\n",
            "Epoch [0], val_loss: 2.0030, val_acc: 0.5976\n",
            "Epoch [0], val_loss: 2.0021, val_acc: 0.5977\n",
            "Epoch [0], val_loss: 2.0012, val_acc: 0.5983\n",
            "Epoch [0], val_loss: 2.0004, val_acc: 0.5985\n",
            "Epoch [0], val_loss: 1.9996, val_acc: 0.5997\n",
            "Epoch [0], val_loss: 1.9988, val_acc: 0.6010\n",
            "Epoch [0], val_loss: 1.9980, val_acc: 0.6019\n",
            "Epoch [0], val_loss: 1.9971, val_acc: 0.6027\n",
            "Epoch [0], val_loss: 1.9963, val_acc: 0.6053\n",
            "Epoch [0], val_loss: 1.9954, val_acc: 0.6064\n",
            "Epoch [0], val_loss: 1.9945, val_acc: 0.6071\n",
            "Epoch [0], val_loss: 1.9937, val_acc: 0.6077\n",
            "Epoch [0], val_loss: 1.9928, val_acc: 0.6088\n",
            "Epoch [0], val_loss: 1.9921, val_acc: 0.6107\n",
            "Epoch [0], val_loss: 1.9913, val_acc: 0.6116\n",
            "Epoch [0], val_loss: 1.9905, val_acc: 0.6112\n",
            "Epoch [0], val_loss: 1.9897, val_acc: 0.6114\n",
            "Epoch [0], val_loss: 1.9889, val_acc: 0.6116\n",
            "Epoch [0], val_loss: 1.9881, val_acc: 0.6129\n",
            "Epoch [0], val_loss: 1.9872, val_acc: 0.6135\n",
            "Epoch [0], val_loss: 1.9864, val_acc: 0.6148\n",
            "Epoch [0], val_loss: 1.9856, val_acc: 0.6162\n",
            "Epoch [0], val_loss: 1.9848, val_acc: 0.6174\n",
            "Epoch [0], val_loss: 1.9840, val_acc: 0.6197\n",
            "Epoch [0], val_loss: 1.9832, val_acc: 0.6208\n",
            "Epoch [0], val_loss: 1.9822, val_acc: 0.6212\n",
            "Epoch [0], val_loss: 1.9814, val_acc: 0.6208\n",
            "Epoch [0], val_loss: 1.9806, val_acc: 0.6213\n",
            "Epoch [0], val_loss: 1.9797, val_acc: 0.6228\n",
            "Epoch [0], val_loss: 1.9789, val_acc: 0.6225\n",
            "Epoch [0], val_loss: 1.9779, val_acc: 0.6226\n",
            "Epoch [0], val_loss: 1.9771, val_acc: 0.6231\n",
            "Epoch [0], val_loss: 1.9762, val_acc: 0.6241\n",
            "Epoch [0], val_loss: 1.9754, val_acc: 0.6244\n",
            "Epoch [0], val_loss: 1.9746, val_acc: 0.6266\n",
            "Epoch [0], val_loss: 1.9737, val_acc: 0.6268\n",
            "Epoch [0], val_loss: 1.9728, val_acc: 0.6273\n",
            "Epoch [0], val_loss: 1.9720, val_acc: 0.6270\n",
            "Epoch [0], val_loss: 1.9712, val_acc: 0.6281\n",
            "Epoch [0], val_loss: 1.9704, val_acc: 0.6284\n",
            "Epoch [0], val_loss: 1.9696, val_acc: 0.6300\n",
            "Epoch [0], val_loss: 1.9687, val_acc: 0.6300\n",
            "Epoch [0], val_loss: 1.9679, val_acc: 0.6302\n",
            "Epoch [0], val_loss: 1.9671, val_acc: 0.6312\n",
            "Epoch [0], val_loss: 1.9663, val_acc: 0.6317\n",
            "Epoch [0], val_loss: 1.9655, val_acc: 0.6340\n",
            "Epoch [0], val_loss: 1.9647, val_acc: 0.6342\n",
            "Epoch [0], val_loss: 1.9638, val_acc: 0.6360\n",
            "Epoch [0], val_loss: 1.9630, val_acc: 0.6366\n",
            "Epoch [0], val_loss: 1.9621, val_acc: 0.6375\n",
            "Epoch [0], val_loss: 1.9613, val_acc: 0.6381\n",
            "Epoch [0], val_loss: 1.9604, val_acc: 0.6389\n",
            "Epoch [0], val_loss: 1.9596, val_acc: 0.6397\n",
            "Epoch [0], val_loss: 1.9588, val_acc: 0.6405\n",
            "Epoch [0], val_loss: 1.9580, val_acc: 0.6414\n",
            "Epoch [0], val_loss: 1.9573, val_acc: 0.6423\n",
            "Epoch [0], val_loss: 1.9565, val_acc: 0.6424\n",
            "Epoch [0], val_loss: 1.9557, val_acc: 0.6433\n",
            "Epoch [0], val_loss: 1.9549, val_acc: 0.6437\n",
            "Epoch [0], val_loss: 1.9541, val_acc: 0.6436\n"
          ]
        }
      ]
    },
    {
      "cell_type": "code",
      "source": [
        "history2 = fit(5, 0.001, model, train_loader, val_loader)"
      ],
      "metadata": {
        "colab": {
          "base_uri": "https://localhost:8080/"
        },
        "id": "1y35sD3ruVev",
        "outputId": "1bdb67ef-f84e-4392-9565-c297b9b8185b"
      },
      "execution_count": null,
      "outputs": [
        {
          "output_type": "stream",
          "name": "stdout",
          "text": [
            "Epoch [0], val_loss: 1.9533, val_acc: 0.6450\n",
            "Epoch [0], val_loss: 1.9524, val_acc: 0.6454\n",
            "Epoch [0], val_loss: 1.9515, val_acc: 0.6464\n",
            "Epoch [0], val_loss: 1.9508, val_acc: 0.6480\n",
            "Epoch [0], val_loss: 1.9499, val_acc: 0.6488\n",
            "Epoch [0], val_loss: 1.9490, val_acc: 0.6492\n",
            "Epoch [0], val_loss: 1.9482, val_acc: 0.6500\n",
            "Epoch [0], val_loss: 1.9475, val_acc: 0.6510\n",
            "Epoch [0], val_loss: 1.9466, val_acc: 0.6513\n",
            "Epoch [0], val_loss: 1.9458, val_acc: 0.6510\n",
            "Epoch [0], val_loss: 1.9450, val_acc: 0.6520\n",
            "Epoch [0], val_loss: 1.9442, val_acc: 0.6530\n",
            "Epoch [0], val_loss: 1.9435, val_acc: 0.6545\n",
            "Epoch [0], val_loss: 1.9426, val_acc: 0.6544\n",
            "Epoch [0], val_loss: 1.9418, val_acc: 0.6543\n",
            "Epoch [0], val_loss: 1.9409, val_acc: 0.6557\n",
            "Epoch [0], val_loss: 1.9401, val_acc: 0.6563\n",
            "Epoch [0], val_loss: 1.9394, val_acc: 0.6571\n",
            "Epoch [0], val_loss: 1.9386, val_acc: 0.6580\n",
            "Epoch [0], val_loss: 1.9378, val_acc: 0.6584\n",
            "Epoch [0], val_loss: 1.9370, val_acc: 0.6574\n",
            "Epoch [0], val_loss: 1.9362, val_acc: 0.6589\n",
            "Epoch [0], val_loss: 1.9353, val_acc: 0.6601\n",
            "Epoch [0], val_loss: 1.9345, val_acc: 0.6601\n",
            "Epoch [0], val_loss: 1.9337, val_acc: 0.6603\n",
            "Epoch [0], val_loss: 1.9329, val_acc: 0.6601\n",
            "Epoch [0], val_loss: 1.9321, val_acc: 0.6607\n",
            "Epoch [0], val_loss: 1.9312, val_acc: 0.6612\n",
            "Epoch [0], val_loss: 1.9304, val_acc: 0.6618\n",
            "Epoch [0], val_loss: 1.9296, val_acc: 0.6621\n",
            "Epoch [0], val_loss: 1.9288, val_acc: 0.6625\n",
            "Epoch [0], val_loss: 1.9280, val_acc: 0.6637\n",
            "Epoch [0], val_loss: 1.9271, val_acc: 0.6643\n",
            "Epoch [0], val_loss: 1.9264, val_acc: 0.6655\n",
            "Epoch [0], val_loss: 1.9256, val_acc: 0.6657\n",
            "Epoch [0], val_loss: 1.9247, val_acc: 0.6655\n",
            "Epoch [0], val_loss: 1.9239, val_acc: 0.6655\n",
            "Epoch [0], val_loss: 1.9232, val_acc: 0.6663\n",
            "Epoch [0], val_loss: 1.9223, val_acc: 0.6675\n",
            "Epoch [0], val_loss: 1.9216, val_acc: 0.6680\n",
            "Epoch [0], val_loss: 1.9208, val_acc: 0.6689\n",
            "Epoch [0], val_loss: 1.9200, val_acc: 0.6698\n",
            "Epoch [0], val_loss: 1.9192, val_acc: 0.6703\n",
            "Epoch [0], val_loss: 1.9184, val_acc: 0.6710\n",
            "Epoch [0], val_loss: 1.9176, val_acc: 0.6709\n",
            "Epoch [0], val_loss: 1.9167, val_acc: 0.6718\n",
            "Epoch [0], val_loss: 1.9159, val_acc: 0.6721\n",
            "Epoch [0], val_loss: 1.9152, val_acc: 0.6711\n",
            "Epoch [0], val_loss: 1.9145, val_acc: 0.6722\n",
            "Epoch [0], val_loss: 1.9137, val_acc: 0.6735\n",
            "Epoch [0], val_loss: 1.9130, val_acc: 0.6736\n",
            "Epoch [0], val_loss: 1.9122, val_acc: 0.6736\n",
            "Epoch [0], val_loss: 1.9114, val_acc: 0.6743\n",
            "Epoch [0], val_loss: 1.9107, val_acc: 0.6745\n",
            "Epoch [0], val_loss: 1.9099, val_acc: 0.6743\n",
            "Epoch [0], val_loss: 1.9091, val_acc: 0.6752\n",
            "Epoch [0], val_loss: 1.9083, val_acc: 0.6756\n",
            "Epoch [0], val_loss: 1.9076, val_acc: 0.6771\n",
            "Epoch [0], val_loss: 1.9068, val_acc: 0.6778\n",
            "Epoch [0], val_loss: 1.9061, val_acc: 0.6788\n",
            "Epoch [0], val_loss: 1.9053, val_acc: 0.6797\n",
            "Epoch [0], val_loss: 1.9046, val_acc: 0.6807\n",
            "Epoch [0], val_loss: 1.9038, val_acc: 0.6810\n",
            "Epoch [0], val_loss: 1.9031, val_acc: 0.6821\n",
            "Epoch [0], val_loss: 1.9023, val_acc: 0.6823\n",
            "Epoch [0], val_loss: 1.9016, val_acc: 0.6833\n",
            "Epoch [0], val_loss: 1.9008, val_acc: 0.6838\n",
            "Epoch [0], val_loss: 1.9000, val_acc: 0.6840\n",
            "Epoch [0], val_loss: 1.8992, val_acc: 0.6847\n",
            "Epoch [0], val_loss: 1.8984, val_acc: 0.6847\n",
            "Epoch [0], val_loss: 1.8977, val_acc: 0.6848\n",
            "Epoch [0], val_loss: 1.8970, val_acc: 0.6855\n",
            "Epoch [0], val_loss: 1.8962, val_acc: 0.6857\n",
            "Epoch [0], val_loss: 1.8953, val_acc: 0.6859\n",
            "Epoch [0], val_loss: 1.8946, val_acc: 0.6868\n",
            "Epoch [0], val_loss: 1.8938, val_acc: 0.6870\n",
            "Epoch [0], val_loss: 1.8931, val_acc: 0.6860\n",
            "Epoch [0], val_loss: 1.8923, val_acc: 0.6861\n",
            "Epoch [0], val_loss: 1.8915, val_acc: 0.6862\n",
            "Epoch [0], val_loss: 1.8908, val_acc: 0.6867\n",
            "Epoch [0], val_loss: 1.8900, val_acc: 0.6870\n",
            "Epoch [0], val_loss: 1.8893, val_acc: 0.6869\n",
            "Epoch [0], val_loss: 1.8885, val_acc: 0.6873\n",
            "Epoch [0], val_loss: 1.8877, val_acc: 0.6894\n",
            "Epoch [0], val_loss: 1.8870, val_acc: 0.6896\n",
            "Epoch [0], val_loss: 1.8863, val_acc: 0.6902\n",
            "Epoch [0], val_loss: 1.8855, val_acc: 0.6905\n",
            "Epoch [0], val_loss: 1.8847, val_acc: 0.6914\n",
            "Epoch [0], val_loss: 1.8839, val_acc: 0.6921\n",
            "Epoch [0], val_loss: 1.8831, val_acc: 0.6925\n",
            "Epoch [0], val_loss: 1.8823, val_acc: 0.6933\n",
            "Epoch [0], val_loss: 1.8816, val_acc: 0.6939\n",
            "Epoch [0], val_loss: 1.8809, val_acc: 0.6935\n",
            "Epoch [0], val_loss: 1.8801, val_acc: 0.6939\n",
            "Epoch [0], val_loss: 1.8793, val_acc: 0.6942\n",
            "Epoch [0], val_loss: 1.8786, val_acc: 0.6943\n",
            "Epoch [0], val_loss: 1.8778, val_acc: 0.6946\n",
            "Epoch [0], val_loss: 1.8771, val_acc: 0.6948\n",
            "Epoch [0], val_loss: 1.8764, val_acc: 0.6953\n",
            "Epoch [0], val_loss: 1.8757, val_acc: 0.6962\n",
            "Epoch [0], val_loss: 1.8750, val_acc: 0.6973\n",
            "Epoch [0], val_loss: 1.8742, val_acc: 0.6977\n",
            "Epoch [0], val_loss: 1.8734, val_acc: 0.6984\n",
            "Epoch [0], val_loss: 1.8726, val_acc: 0.6983\n",
            "Epoch [0], val_loss: 1.8719, val_acc: 0.6982\n",
            "Epoch [0], val_loss: 1.8711, val_acc: 0.6974\n",
            "Epoch [0], val_loss: 1.8703, val_acc: 0.6977\n",
            "Epoch [0], val_loss: 1.8696, val_acc: 0.6967\n",
            "Epoch [0], val_loss: 1.8688, val_acc: 0.6987\n",
            "Epoch [0], val_loss: 1.8681, val_acc: 0.6986\n",
            "Epoch [0], val_loss: 1.8673, val_acc: 0.6982\n",
            "Epoch [0], val_loss: 1.8665, val_acc: 0.6974\n",
            "Epoch [0], val_loss: 1.8657, val_acc: 0.6986\n",
            "Epoch [0], val_loss: 1.8650, val_acc: 0.6981\n",
            "Epoch [0], val_loss: 1.8642, val_acc: 0.6985\n",
            "Epoch [0], val_loss: 1.8636, val_acc: 0.6995\n",
            "Epoch [0], val_loss: 1.8628, val_acc: 0.7000\n",
            "Epoch [0], val_loss: 1.8621, val_acc: 0.6998\n",
            "Epoch [0], val_loss: 1.8613, val_acc: 0.7006\n",
            "Epoch [0], val_loss: 1.8607, val_acc: 0.7009\n",
            "Epoch [0], val_loss: 1.8599, val_acc: 0.7008\n",
            "Epoch [0], val_loss: 1.8592, val_acc: 0.7024\n",
            "Epoch [0], val_loss: 1.8584, val_acc: 0.7021\n",
            "Epoch [0], val_loss: 1.8577, val_acc: 0.7029\n",
            "Epoch [0], val_loss: 1.8570, val_acc: 0.7040\n",
            "Epoch [0], val_loss: 1.8564, val_acc: 0.7046\n",
            "Epoch [0], val_loss: 1.8557, val_acc: 0.7053\n",
            "Epoch [0], val_loss: 1.8550, val_acc: 0.7055\n",
            "Epoch [0], val_loss: 1.8542, val_acc: 0.7058\n",
            "Epoch [0], val_loss: 1.8535, val_acc: 0.7058\n",
            "Epoch [0], val_loss: 1.8527, val_acc: 0.7065\n",
            "Epoch [0], val_loss: 1.8520, val_acc: 0.7069\n",
            "Epoch [0], val_loss: 1.8513, val_acc: 0.7072\n",
            "Epoch [0], val_loss: 1.8506, val_acc: 0.7070\n",
            "Epoch [0], val_loss: 1.8498, val_acc: 0.7071\n",
            "Epoch [0], val_loss: 1.8491, val_acc: 0.7082\n",
            "Epoch [0], val_loss: 1.8483, val_acc: 0.7082\n",
            "Epoch [0], val_loss: 1.8476, val_acc: 0.7085\n",
            "Epoch [0], val_loss: 1.8468, val_acc: 0.7087\n",
            "Epoch [0], val_loss: 1.8460, val_acc: 0.7097\n",
            "Epoch [0], val_loss: 1.8453, val_acc: 0.7099\n",
            "Epoch [0], val_loss: 1.8446, val_acc: 0.7098\n",
            "Epoch [0], val_loss: 1.8439, val_acc: 0.7101\n",
            "Epoch [0], val_loss: 1.8431, val_acc: 0.7102\n",
            "Epoch [0], val_loss: 1.8423, val_acc: 0.7114\n",
            "Epoch [0], val_loss: 1.8416, val_acc: 0.7110\n",
            "Epoch [0], val_loss: 1.8408, val_acc: 0.7110\n",
            "Epoch [0], val_loss: 1.8402, val_acc: 0.7116\n",
            "Epoch [0], val_loss: 1.8394, val_acc: 0.7117\n",
            "Epoch [0], val_loss: 1.8386, val_acc: 0.7119\n",
            "Epoch [0], val_loss: 1.8379, val_acc: 0.7136\n",
            "Epoch [0], val_loss: 1.8371, val_acc: 0.7133\n",
            "Epoch [0], val_loss: 1.8364, val_acc: 0.7123\n",
            "Epoch [0], val_loss: 1.8357, val_acc: 0.7129\n",
            "Epoch [0], val_loss: 1.8350, val_acc: 0.7135\n",
            "Epoch [0], val_loss: 1.8343, val_acc: 0.7140\n",
            "Epoch [0], val_loss: 1.8336, val_acc: 0.7142\n",
            "Epoch [0], val_loss: 1.8328, val_acc: 0.7137\n",
            "Epoch [0], val_loss: 1.8321, val_acc: 0.7141\n",
            "Epoch [0], val_loss: 1.8313, val_acc: 0.7158\n",
            "Epoch [0], val_loss: 1.8306, val_acc: 0.7158\n",
            "Epoch [0], val_loss: 1.8300, val_acc: 0.7157\n",
            "Epoch [0], val_loss: 1.8292, val_acc: 0.7164\n",
            "Epoch [0], val_loss: 1.8285, val_acc: 0.7172\n",
            "Epoch [0], val_loss: 1.8278, val_acc: 0.7167\n",
            "Epoch [0], val_loss: 1.8271, val_acc: 0.7183\n",
            "Epoch [0], val_loss: 1.8265, val_acc: 0.7183\n",
            "Epoch [0], val_loss: 1.8257, val_acc: 0.7184\n",
            "Epoch [0], val_loss: 1.8250, val_acc: 0.7188\n",
            "Epoch [0], val_loss: 1.8243, val_acc: 0.7189\n",
            "Epoch [0], val_loss: 1.8235, val_acc: 0.7194\n",
            "Epoch [0], val_loss: 1.8228, val_acc: 0.7196\n",
            "Epoch [0], val_loss: 1.8221, val_acc: 0.7203\n",
            "Epoch [0], val_loss: 1.8214, val_acc: 0.7205\n",
            "Epoch [0], val_loss: 1.8207, val_acc: 0.7206\n",
            "Epoch [0], val_loss: 1.8200, val_acc: 0.7209\n",
            "Epoch [0], val_loss: 1.8194, val_acc: 0.7209\n",
            "Epoch [0], val_loss: 1.8187, val_acc: 0.7207\n",
            "Epoch [0], val_loss: 1.8180, val_acc: 0.7216\n",
            "Epoch [0], val_loss: 1.8173, val_acc: 0.7216\n",
            "Epoch [0], val_loss: 1.8166, val_acc: 0.7221\n",
            "Epoch [0], val_loss: 1.8159, val_acc: 0.7233\n",
            "Epoch [0], val_loss: 1.8151, val_acc: 0.7231\n",
            "Epoch [0], val_loss: 1.8144, val_acc: 0.7237\n",
            "Epoch [0], val_loss: 1.8136, val_acc: 0.7237\n",
            "Epoch [0], val_loss: 1.8130, val_acc: 0.7241\n",
            "Epoch [0], val_loss: 1.8122, val_acc: 0.7247\n",
            "Epoch [0], val_loss: 1.8115, val_acc: 0.7248\n",
            "Epoch [0], val_loss: 1.8107, val_acc: 0.7251\n",
            "Epoch [0], val_loss: 1.8100, val_acc: 0.7256\n",
            "Epoch [0], val_loss: 1.8093, val_acc: 0.7254\n",
            "Epoch [0], val_loss: 1.8086, val_acc: 0.7258\n",
            "Epoch [0], val_loss: 1.8080, val_acc: 0.7266\n",
            "Epoch [0], val_loss: 1.8072, val_acc: 0.7266\n",
            "Epoch [0], val_loss: 1.8066, val_acc: 0.7270\n",
            "Epoch [0], val_loss: 1.8059, val_acc: 0.7271\n",
            "Epoch [0], val_loss: 1.8052, val_acc: 0.7278\n",
            "Epoch [0], val_loss: 1.8045, val_acc: 0.7280\n",
            "Epoch [0], val_loss: 1.8038, val_acc: 0.7279\n",
            "Epoch [0], val_loss: 1.8031, val_acc: 0.7280\n",
            "Epoch [0], val_loss: 1.8024, val_acc: 0.7280\n",
            "Epoch [0], val_loss: 1.8017, val_acc: 0.7287\n",
            "Epoch [0], val_loss: 1.8010, val_acc: 0.7292\n",
            "Epoch [0], val_loss: 1.8003, val_acc: 0.7290\n",
            "Epoch [0], val_loss: 1.7997, val_acc: 0.7293\n",
            "Epoch [0], val_loss: 1.7990, val_acc: 0.7297\n",
            "Epoch [0], val_loss: 1.7982, val_acc: 0.7295\n",
            "Epoch [0], val_loss: 1.7975, val_acc: 0.7304\n",
            "Epoch [0], val_loss: 1.7969, val_acc: 0.7307\n",
            "Epoch [0], val_loss: 1.7961, val_acc: 0.7308\n",
            "Epoch [0], val_loss: 1.7954, val_acc: 0.7306\n",
            "Epoch [0], val_loss: 1.7948, val_acc: 0.7302\n",
            "Epoch [0], val_loss: 1.7941, val_acc: 0.7309\n",
            "Epoch [0], val_loss: 1.7934, val_acc: 0.7305\n",
            "Epoch [0], val_loss: 1.7927, val_acc: 0.7312\n",
            "Epoch [0], val_loss: 1.7921, val_acc: 0.7314\n",
            "Epoch [0], val_loss: 1.7913, val_acc: 0.7309\n",
            "Epoch [0], val_loss: 1.7906, val_acc: 0.7310\n",
            "Epoch [0], val_loss: 1.7899, val_acc: 0.7315\n",
            "Epoch [0], val_loss: 1.7892, val_acc: 0.7318\n",
            "Epoch [0], val_loss: 1.7885, val_acc: 0.7322\n",
            "Epoch [0], val_loss: 1.7879, val_acc: 0.7320\n",
            "Epoch [0], val_loss: 1.7872, val_acc: 0.7326\n",
            "Epoch [0], val_loss: 1.7865, val_acc: 0.7329\n",
            "Epoch [0], val_loss: 1.7858, val_acc: 0.7332\n",
            "Epoch [0], val_loss: 1.7851, val_acc: 0.7332\n",
            "Epoch [0], val_loss: 1.7844, val_acc: 0.7337\n",
            "Epoch [0], val_loss: 1.7837, val_acc: 0.7340\n",
            "Epoch [0], val_loss: 1.7830, val_acc: 0.7336\n",
            "Epoch [0], val_loss: 1.7823, val_acc: 0.7336\n",
            "Epoch [0], val_loss: 1.7817, val_acc: 0.7341\n",
            "Epoch [0], val_loss: 1.7810, val_acc: 0.7342\n",
            "Epoch [0], val_loss: 1.7803, val_acc: 0.7345\n",
            "Epoch [0], val_loss: 1.7797, val_acc: 0.7345\n",
            "Epoch [0], val_loss: 1.7790, val_acc: 0.7344\n",
            "Epoch [0], val_loss: 1.7782, val_acc: 0.7345\n",
            "Epoch [0], val_loss: 1.7775, val_acc: 0.7353\n",
            "Epoch [0], val_loss: 1.7768, val_acc: 0.7355\n",
            "Epoch [0], val_loss: 1.7761, val_acc: 0.7356\n",
            "Epoch [0], val_loss: 1.7754, val_acc: 0.7354\n",
            "Epoch [0], val_loss: 1.7748, val_acc: 0.7353\n",
            "Epoch [0], val_loss: 1.7741, val_acc: 0.7352\n",
            "Epoch [0], val_loss: 1.7734, val_acc: 0.7358\n",
            "Epoch [0], val_loss: 1.7727, val_acc: 0.7357\n",
            "Epoch [0], val_loss: 1.7720, val_acc: 0.7354\n",
            "Epoch [0], val_loss: 1.7713, val_acc: 0.7363\n",
            "Epoch [0], val_loss: 1.7706, val_acc: 0.7366\n",
            "Epoch [0], val_loss: 1.7699, val_acc: 0.7366\n",
            "Epoch [0], val_loss: 1.7693, val_acc: 0.7369\n",
            "Epoch [0], val_loss: 1.7686, val_acc: 0.7373\n",
            "Epoch [0], val_loss: 1.7679, val_acc: 0.7377\n",
            "Epoch [0], val_loss: 1.7672, val_acc: 0.7381\n",
            "Epoch [0], val_loss: 1.7666, val_acc: 0.7385\n",
            "Epoch [0], val_loss: 1.7659, val_acc: 0.7387\n",
            "Epoch [0], val_loss: 1.7652, val_acc: 0.7389\n",
            "Epoch [0], val_loss: 1.7645, val_acc: 0.7393\n",
            "Epoch [0], val_loss: 1.7638, val_acc: 0.7398\n",
            "Epoch [0], val_loss: 1.7632, val_acc: 0.7399\n",
            "Epoch [0], val_loss: 1.7625, val_acc: 0.7402\n",
            "Epoch [0], val_loss: 1.7619, val_acc: 0.7406\n",
            "Epoch [0], val_loss: 1.7612, val_acc: 0.7402\n",
            "Epoch [0], val_loss: 1.7606, val_acc: 0.7403\n",
            "Epoch [0], val_loss: 1.7599, val_acc: 0.7408\n",
            "Epoch [0], val_loss: 1.7592, val_acc: 0.7412\n",
            "Epoch [0], val_loss: 1.7585, val_acc: 0.7410\n",
            "Epoch [0], val_loss: 1.7579, val_acc: 0.7415\n",
            "Epoch [0], val_loss: 1.7572, val_acc: 0.7417\n",
            "Epoch [0], val_loss: 1.7566, val_acc: 0.7419\n",
            "Epoch [0], val_loss: 1.7560, val_acc: 0.7426\n",
            "Epoch [0], val_loss: 1.7553, val_acc: 0.7422\n",
            "Epoch [0], val_loss: 1.7547, val_acc: 0.7426\n",
            "Epoch [0], val_loss: 1.7540, val_acc: 0.7422\n",
            "Epoch [0], val_loss: 1.7533, val_acc: 0.7423\n",
            "Epoch [0], val_loss: 1.7526, val_acc: 0.7431\n",
            "Epoch [0], val_loss: 1.7520, val_acc: 0.7427\n",
            "Epoch [0], val_loss: 1.7513, val_acc: 0.7431\n",
            "Epoch [0], val_loss: 1.7508, val_acc: 0.7438\n",
            "Epoch [0], val_loss: 1.7501, val_acc: 0.7435\n",
            "Epoch [0], val_loss: 1.7494, val_acc: 0.7434\n",
            "Epoch [0], val_loss: 1.7488, val_acc: 0.7441\n",
            "Epoch [0], val_loss: 1.7481, val_acc: 0.7436\n",
            "Epoch [0], val_loss: 1.7475, val_acc: 0.7447\n",
            "Epoch [0], val_loss: 1.7468, val_acc: 0.7451\n",
            "Epoch [0], val_loss: 1.7461, val_acc: 0.7452\n",
            "Epoch [0], val_loss: 1.7455, val_acc: 0.7453\n",
            "Epoch [0], val_loss: 1.7447, val_acc: 0.7454\n",
            "Epoch [0], val_loss: 1.7441, val_acc: 0.7450\n",
            "Epoch [0], val_loss: 1.7434, val_acc: 0.7451\n",
            "Epoch [0], val_loss: 1.7427, val_acc: 0.7450\n",
            "Epoch [0], val_loss: 1.7420, val_acc: 0.7453\n",
            "Epoch [0], val_loss: 1.7414, val_acc: 0.7455\n",
            "Epoch [0], val_loss: 1.7408, val_acc: 0.7456\n",
            "Epoch [0], val_loss: 1.7401, val_acc: 0.7458\n",
            "Epoch [0], val_loss: 1.7395, val_acc: 0.7457\n",
            "Epoch [0], val_loss: 1.7388, val_acc: 0.7461\n",
            "Epoch [0], val_loss: 1.7382, val_acc: 0.7460\n",
            "Epoch [0], val_loss: 1.7375, val_acc: 0.7466\n",
            "Epoch [0], val_loss: 1.7369, val_acc: 0.7468\n",
            "Epoch [0], val_loss: 1.7362, val_acc: 0.7464\n",
            "Epoch [0], val_loss: 1.7356, val_acc: 0.7472\n",
            "Epoch [0], val_loss: 1.7349, val_acc: 0.7474\n",
            "Epoch [0], val_loss: 1.7343, val_acc: 0.7479\n",
            "Epoch [0], val_loss: 1.7337, val_acc: 0.7485\n",
            "Epoch [0], val_loss: 1.7330, val_acc: 0.7485\n",
            "Epoch [0], val_loss: 1.7323, val_acc: 0.7488\n",
            "Epoch [0], val_loss: 1.7317, val_acc: 0.7486\n",
            "Epoch [0], val_loss: 1.7311, val_acc: 0.7485\n",
            "Epoch [0], val_loss: 1.7304, val_acc: 0.7493\n",
            "Epoch [0], val_loss: 1.7298, val_acc: 0.7487\n",
            "Epoch [0], val_loss: 1.7292, val_acc: 0.7486\n",
            "Epoch [0], val_loss: 1.7285, val_acc: 0.7487\n",
            "Epoch [0], val_loss: 1.7278, val_acc: 0.7497\n",
            "Epoch [0], val_loss: 1.7272, val_acc: 0.7503\n",
            "Epoch [0], val_loss: 1.7266, val_acc: 0.7505\n",
            "Epoch [0], val_loss: 1.7259, val_acc: 0.7502\n",
            "Epoch [0], val_loss: 1.7251, val_acc: 0.7505\n",
            "Epoch [0], val_loss: 1.7246, val_acc: 0.7503\n",
            "Epoch [0], val_loss: 1.7239, val_acc: 0.7499\n",
            "Epoch [0], val_loss: 1.7233, val_acc: 0.7505\n",
            "Epoch [0], val_loss: 1.7226, val_acc: 0.7501\n",
            "Epoch [0], val_loss: 1.7220, val_acc: 0.7499\n",
            "Epoch [0], val_loss: 1.7213, val_acc: 0.7498\n",
            "Epoch [0], val_loss: 1.7207, val_acc: 0.7502\n",
            "Epoch [0], val_loss: 1.7200, val_acc: 0.7503\n",
            "Epoch [0], val_loss: 1.7194, val_acc: 0.7500\n",
            "Epoch [0], val_loss: 1.7188, val_acc: 0.7502\n",
            "Epoch [0], val_loss: 1.7182, val_acc: 0.7502\n",
            "Epoch [0], val_loss: 1.7175, val_acc: 0.7500\n",
            "Epoch [0], val_loss: 1.7168, val_acc: 0.7507\n",
            "Epoch [0], val_loss: 1.7162, val_acc: 0.7502\n",
            "Epoch [0], val_loss: 1.7155, val_acc: 0.7504\n",
            "Epoch [0], val_loss: 1.7149, val_acc: 0.7512\n",
            "Epoch [0], val_loss: 1.7142, val_acc: 0.7508\n",
            "Epoch [0], val_loss: 1.7136, val_acc: 0.7507\n",
            "Epoch [0], val_loss: 1.7130, val_acc: 0.7511\n",
            "Epoch [0], val_loss: 1.7123, val_acc: 0.7513\n",
            "Epoch [0], val_loss: 1.7117, val_acc: 0.7513\n",
            "Epoch [0], val_loss: 1.7111, val_acc: 0.7514\n",
            "Epoch [0], val_loss: 1.7104, val_acc: 0.7513\n",
            "Epoch [0], val_loss: 1.7098, val_acc: 0.7516\n",
            "Epoch [0], val_loss: 1.7092, val_acc: 0.7516\n",
            "Epoch [0], val_loss: 1.7086, val_acc: 0.7518\n",
            "Epoch [0], val_loss: 1.7080, val_acc: 0.7518\n",
            "Epoch [0], val_loss: 1.7074, val_acc: 0.7516\n",
            "Epoch [0], val_loss: 1.7068, val_acc: 0.7522\n",
            "Epoch [0], val_loss: 1.7062, val_acc: 0.7529\n",
            "Epoch [0], val_loss: 1.7056, val_acc: 0.7535\n",
            "Epoch [0], val_loss: 1.7049, val_acc: 0.7532\n",
            "Epoch [0], val_loss: 1.7043, val_acc: 0.7530\n",
            "Epoch [0], val_loss: 1.7037, val_acc: 0.7532\n",
            "Epoch [0], val_loss: 1.7031, val_acc: 0.7530\n",
            "Epoch [0], val_loss: 1.7024, val_acc: 0.7528\n",
            "Epoch [0], val_loss: 1.7018, val_acc: 0.7542\n",
            "Epoch [0], val_loss: 1.7011, val_acc: 0.7535\n",
            "Epoch [0], val_loss: 1.7005, val_acc: 0.7533\n",
            "Epoch [0], val_loss: 1.6999, val_acc: 0.7537\n",
            "Epoch [0], val_loss: 1.6992, val_acc: 0.7536\n",
            "Epoch [0], val_loss: 1.6987, val_acc: 0.7538\n",
            "Epoch [0], val_loss: 1.6981, val_acc: 0.7539\n",
            "Epoch [0], val_loss: 1.6974, val_acc: 0.7538\n",
            "Epoch [0], val_loss: 1.6968, val_acc: 0.7541\n",
            "Epoch [0], val_loss: 1.6961, val_acc: 0.7542\n",
            "Epoch [0], val_loss: 1.6955, val_acc: 0.7544\n",
            "Epoch [0], val_loss: 1.6948, val_acc: 0.7545\n",
            "Epoch [0], val_loss: 1.6942, val_acc: 0.7538\n",
            "Epoch [0], val_loss: 1.6936, val_acc: 0.7545\n",
            "Epoch [0], val_loss: 1.6930, val_acc: 0.7547\n",
            "Epoch [0], val_loss: 1.6924, val_acc: 0.7553\n",
            "Epoch [0], val_loss: 1.6918, val_acc: 0.7549\n",
            "Epoch [0], val_loss: 1.6912, val_acc: 0.7550\n",
            "Epoch [0], val_loss: 1.6905, val_acc: 0.7554\n",
            "Epoch [0], val_loss: 1.6899, val_acc: 0.7554\n",
            "Epoch [0], val_loss: 1.6894, val_acc: 0.7559\n",
            "Epoch [0], val_loss: 1.6888, val_acc: 0.7557\n",
            "Epoch [0], val_loss: 1.6881, val_acc: 0.7565\n",
            "Epoch [0], val_loss: 1.6875, val_acc: 0.7565\n",
            "Epoch [0], val_loss: 1.6869, val_acc: 0.7566\n",
            "Epoch [0], val_loss: 1.6863, val_acc: 0.7570\n",
            "Epoch [0], val_loss: 1.6857, val_acc: 0.7567\n",
            "Epoch [0], val_loss: 1.6851, val_acc: 0.7568\n",
            "Epoch [0], val_loss: 1.6845, val_acc: 0.7571\n",
            "Epoch [0], val_loss: 1.6838, val_acc: 0.7572\n",
            "Epoch [0], val_loss: 1.6832, val_acc: 0.7570\n",
            "Epoch [0], val_loss: 1.6826, val_acc: 0.7571\n",
            "Epoch [0], val_loss: 1.6820, val_acc: 0.7568\n",
            "Epoch [0], val_loss: 1.6813, val_acc: 0.7559\n",
            "Epoch [0], val_loss: 1.6807, val_acc: 0.7566\n",
            "Epoch [0], val_loss: 1.6801, val_acc: 0.7557\n",
            "Epoch [0], val_loss: 1.6795, val_acc: 0.7563\n",
            "Epoch [0], val_loss: 1.6789, val_acc: 0.7564\n",
            "Epoch [0], val_loss: 1.6783, val_acc: 0.7566\n"
          ]
        }
      ]
    },
    {
      "cell_type": "code",
      "source": [
        "history3 = fit(5, 0.001, model, train_loader, val_loader)"
      ],
      "metadata": {
        "colab": {
          "base_uri": "https://localhost:8080/"
        },
        "id": "OrHHR0hXvGqj",
        "outputId": "fc6373dd-7795-47fb-ec8e-d8f4f251cade"
      },
      "execution_count": null,
      "outputs": [
        {
          "output_type": "stream",
          "name": "stdout",
          "text": [
            "Epoch [0], val_loss: 1.6778, val_acc: 0.7565\n",
            "Epoch [0], val_loss: 1.6772, val_acc: 0.7568\n",
            "Epoch [0], val_loss: 1.6766, val_acc: 0.7573\n",
            "Epoch [0], val_loss: 1.6760, val_acc: 0.7569\n",
            "Epoch [0], val_loss: 1.6754, val_acc: 0.7569\n",
            "Epoch [0], val_loss: 1.6748, val_acc: 0.7569\n",
            "Epoch [0], val_loss: 1.6742, val_acc: 0.7574\n",
            "Epoch [0], val_loss: 1.6737, val_acc: 0.7574\n",
            "Epoch [0], val_loss: 1.6731, val_acc: 0.7580\n",
            "Epoch [0], val_loss: 1.6725, val_acc: 0.7582\n",
            "Epoch [0], val_loss: 1.6719, val_acc: 0.7578\n",
            "Epoch [0], val_loss: 1.6713, val_acc: 0.7577\n",
            "Epoch [0], val_loss: 1.6707, val_acc: 0.7578\n",
            "Epoch [0], val_loss: 1.6701, val_acc: 0.7581\n",
            "Epoch [0], val_loss: 1.6694, val_acc: 0.7581\n",
            "Epoch [0], val_loss: 1.6688, val_acc: 0.7581\n",
            "Epoch [0], val_loss: 1.6683, val_acc: 0.7585\n",
            "Epoch [0], val_loss: 1.6677, val_acc: 0.7585\n",
            "Epoch [0], val_loss: 1.6670, val_acc: 0.7587\n",
            "Epoch [0], val_loss: 1.6665, val_acc: 0.7585\n",
            "Epoch [0], val_loss: 1.6659, val_acc: 0.7586\n",
            "Epoch [0], val_loss: 1.6653, val_acc: 0.7587\n",
            "Epoch [0], val_loss: 1.6647, val_acc: 0.7592\n",
            "Epoch [0], val_loss: 1.6641, val_acc: 0.7590\n",
            "Epoch [0], val_loss: 1.6635, val_acc: 0.7597\n",
            "Epoch [0], val_loss: 1.6629, val_acc: 0.7592\n",
            "Epoch [0], val_loss: 1.6623, val_acc: 0.7594\n",
            "Epoch [0], val_loss: 1.6617, val_acc: 0.7594\n",
            "Epoch [0], val_loss: 1.6610, val_acc: 0.7592\n",
            "Epoch [0], val_loss: 1.6605, val_acc: 0.7593\n",
            "Epoch [0], val_loss: 1.6598, val_acc: 0.7593\n",
            "Epoch [0], val_loss: 1.6593, val_acc: 0.7601\n",
            "Epoch [0], val_loss: 1.6587, val_acc: 0.7602\n",
            "Epoch [0], val_loss: 1.6581, val_acc: 0.7608\n",
            "Epoch [0], val_loss: 1.6575, val_acc: 0.7610\n",
            "Epoch [0], val_loss: 1.6569, val_acc: 0.7613\n",
            "Epoch [0], val_loss: 1.6563, val_acc: 0.7613\n",
            "Epoch [0], val_loss: 1.6557, val_acc: 0.7615\n",
            "Epoch [0], val_loss: 1.6552, val_acc: 0.7618\n",
            "Epoch [0], val_loss: 1.6546, val_acc: 0.7613\n",
            "Epoch [0], val_loss: 1.6540, val_acc: 0.7612\n",
            "Epoch [0], val_loss: 1.6534, val_acc: 0.7615\n",
            "Epoch [0], val_loss: 1.6528, val_acc: 0.7616\n",
            "Epoch [0], val_loss: 1.6523, val_acc: 0.7616\n",
            "Epoch [0], val_loss: 1.6516, val_acc: 0.7618\n",
            "Epoch [0], val_loss: 1.6510, val_acc: 0.7620\n",
            "Epoch [0], val_loss: 1.6504, val_acc: 0.7618\n",
            "Epoch [0], val_loss: 1.6498, val_acc: 0.7619\n",
            "Epoch [0], val_loss: 1.6492, val_acc: 0.7624\n",
            "Epoch [0], val_loss: 1.6486, val_acc: 0.7615\n",
            "Epoch [0], val_loss: 1.6480, val_acc: 0.7618\n",
            "Epoch [0], val_loss: 1.6474, val_acc: 0.7618\n",
            "Epoch [0], val_loss: 1.6468, val_acc: 0.7618\n",
            "Epoch [0], val_loss: 1.6462, val_acc: 0.7617\n",
            "Epoch [0], val_loss: 1.6457, val_acc: 0.7616\n",
            "Epoch [0], val_loss: 1.6451, val_acc: 0.7611\n",
            "Epoch [0], val_loss: 1.6445, val_acc: 0.7613\n",
            "Epoch [0], val_loss: 1.6439, val_acc: 0.7617\n",
            "Epoch [0], val_loss: 1.6433, val_acc: 0.7625\n",
            "Epoch [0], val_loss: 1.6427, val_acc: 0.7624\n",
            "Epoch [0], val_loss: 1.6421, val_acc: 0.7625\n",
            "Epoch [0], val_loss: 1.6415, val_acc: 0.7619\n",
            "Epoch [0], val_loss: 1.6409, val_acc: 0.7621\n",
            "Epoch [0], val_loss: 1.6403, val_acc: 0.7629\n",
            "Epoch [0], val_loss: 1.6397, val_acc: 0.7630\n",
            "Epoch [0], val_loss: 1.6392, val_acc: 0.7630\n",
            "Epoch [0], val_loss: 1.6387, val_acc: 0.7632\n",
            "Epoch [0], val_loss: 1.6381, val_acc: 0.7634\n",
            "Epoch [0], val_loss: 1.6375, val_acc: 0.7634\n",
            "Epoch [0], val_loss: 1.6369, val_acc: 0.7640\n",
            "Epoch [0], val_loss: 1.6364, val_acc: 0.7641\n",
            "Epoch [0], val_loss: 1.6358, val_acc: 0.7645\n",
            "Epoch [0], val_loss: 1.6352, val_acc: 0.7646\n",
            "Epoch [0], val_loss: 1.6346, val_acc: 0.7644\n",
            "Epoch [0], val_loss: 1.6340, val_acc: 0.7648\n",
            "Epoch [0], val_loss: 1.6334, val_acc: 0.7648\n",
            "Epoch [0], val_loss: 1.6328, val_acc: 0.7645\n",
            "Epoch [0], val_loss: 1.6323, val_acc: 0.7645\n",
            "Epoch [0], val_loss: 1.6317, val_acc: 0.7646\n",
            "Epoch [0], val_loss: 1.6312, val_acc: 0.7644\n",
            "Epoch [0], val_loss: 1.6306, val_acc: 0.7647\n",
            "Epoch [0], val_loss: 1.6300, val_acc: 0.7647\n",
            "Epoch [0], val_loss: 1.6294, val_acc: 0.7650\n",
            "Epoch [0], val_loss: 1.6288, val_acc: 0.7651\n",
            "Epoch [0], val_loss: 1.6282, val_acc: 0.7649\n",
            "Epoch [0], val_loss: 1.6277, val_acc: 0.7650\n",
            "Epoch [0], val_loss: 1.6271, val_acc: 0.7651\n",
            "Epoch [0], val_loss: 1.6265, val_acc: 0.7651\n",
            "Epoch [0], val_loss: 1.6259, val_acc: 0.7651\n",
            "Epoch [0], val_loss: 1.6254, val_acc: 0.7648\n",
            "Epoch [0], val_loss: 1.6248, val_acc: 0.7644\n",
            "Epoch [0], val_loss: 1.6242, val_acc: 0.7649\n",
            "Epoch [0], val_loss: 1.6237, val_acc: 0.7649\n",
            "Epoch [0], val_loss: 1.6231, val_acc: 0.7647\n",
            "Epoch [0], val_loss: 1.6225, val_acc: 0.7646\n",
            "Epoch [0], val_loss: 1.6220, val_acc: 0.7649\n",
            "Epoch [0], val_loss: 1.6214, val_acc: 0.7654\n",
            "Epoch [0], val_loss: 1.6209, val_acc: 0.7658\n",
            "Epoch [0], val_loss: 1.6203, val_acc: 0.7656\n",
            "Epoch [0], val_loss: 1.6198, val_acc: 0.7661\n",
            "Epoch [0], val_loss: 1.6192, val_acc: 0.7662\n",
            "Epoch [0], val_loss: 1.6186, val_acc: 0.7665\n",
            "Epoch [0], val_loss: 1.6181, val_acc: 0.7662\n",
            "Epoch [0], val_loss: 1.6175, val_acc: 0.7662\n",
            "Epoch [0], val_loss: 1.6169, val_acc: 0.7668\n",
            "Epoch [0], val_loss: 1.6163, val_acc: 0.7666\n",
            "Epoch [0], val_loss: 1.6158, val_acc: 0.7670\n",
            "Epoch [0], val_loss: 1.6152, val_acc: 0.7666\n",
            "Epoch [0], val_loss: 1.6146, val_acc: 0.7665\n",
            "Epoch [0], val_loss: 1.6140, val_acc: 0.7666\n",
            "Epoch [0], val_loss: 1.6135, val_acc: 0.7674\n",
            "Epoch [0], val_loss: 1.6130, val_acc: 0.7674\n",
            "Epoch [0], val_loss: 1.6124, val_acc: 0.7676\n",
            "Epoch [0], val_loss: 1.6118, val_acc: 0.7678\n",
            "Epoch [0], val_loss: 1.6112, val_acc: 0.7682\n",
            "Epoch [0], val_loss: 1.6107, val_acc: 0.7682\n",
            "Epoch [0], val_loss: 1.6102, val_acc: 0.7679\n",
            "Epoch [0], val_loss: 1.6097, val_acc: 0.7681\n",
            "Epoch [0], val_loss: 1.6091, val_acc: 0.7683\n",
            "Epoch [0], val_loss: 1.6086, val_acc: 0.7687\n",
            "Epoch [0], val_loss: 1.6080, val_acc: 0.7685\n",
            "Epoch [0], val_loss: 1.6075, val_acc: 0.7686\n",
            "Epoch [0], val_loss: 1.6069, val_acc: 0.7688\n",
            "Epoch [0], val_loss: 1.6063, val_acc: 0.7688\n",
            "Epoch [0], val_loss: 1.6058, val_acc: 0.7690\n",
            "Epoch [0], val_loss: 1.6053, val_acc: 0.7687\n",
            "Epoch [0], val_loss: 1.6047, val_acc: 0.7691\n",
            "Epoch [0], val_loss: 1.6041, val_acc: 0.7689\n",
            "Epoch [0], val_loss: 1.6035, val_acc: 0.7692\n",
            "Epoch [0], val_loss: 1.6030, val_acc: 0.7692\n",
            "Epoch [0], val_loss: 1.6025, val_acc: 0.7691\n",
            "Epoch [0], val_loss: 1.6019, val_acc: 0.7692\n",
            "Epoch [0], val_loss: 1.6013, val_acc: 0.7694\n",
            "Epoch [0], val_loss: 1.6007, val_acc: 0.7691\n",
            "Epoch [0], val_loss: 1.6002, val_acc: 0.7693\n",
            "Epoch [0], val_loss: 1.5997, val_acc: 0.7692\n",
            "Epoch [0], val_loss: 1.5991, val_acc: 0.7692\n",
            "Epoch [0], val_loss: 1.5986, val_acc: 0.7689\n",
            "Epoch [0], val_loss: 1.5980, val_acc: 0.7692\n",
            "Epoch [0], val_loss: 1.5975, val_acc: 0.7692\n",
            "Epoch [0], val_loss: 1.5969, val_acc: 0.7691\n",
            "Epoch [0], val_loss: 1.5964, val_acc: 0.7693\n",
            "Epoch [0], val_loss: 1.5958, val_acc: 0.7694\n",
            "Epoch [0], val_loss: 1.5953, val_acc: 0.7695\n",
            "Epoch [0], val_loss: 1.5947, val_acc: 0.7692\n",
            "Epoch [0], val_loss: 1.5942, val_acc: 0.7696\n",
            "Epoch [0], val_loss: 1.5936, val_acc: 0.7692\n",
            "Epoch [0], val_loss: 1.5931, val_acc: 0.7699\n",
            "Epoch [0], val_loss: 1.5926, val_acc: 0.7698\n",
            "Epoch [0], val_loss: 1.5920, val_acc: 0.7698\n",
            "Epoch [0], val_loss: 1.5915, val_acc: 0.7699\n",
            "Epoch [0], val_loss: 1.5909, val_acc: 0.7697\n",
            "Epoch [0], val_loss: 1.5904, val_acc: 0.7696\n",
            "Epoch [0], val_loss: 1.5899, val_acc: 0.7697\n",
            "Epoch [0], val_loss: 1.5893, val_acc: 0.7694\n",
            "Epoch [0], val_loss: 1.5888, val_acc: 0.7693\n",
            "Epoch [0], val_loss: 1.5882, val_acc: 0.7694\n",
            "Epoch [0], val_loss: 1.5877, val_acc: 0.7696\n",
            "Epoch [0], val_loss: 1.5872, val_acc: 0.7697\n",
            "Epoch [0], val_loss: 1.5866, val_acc: 0.7696\n",
            "Epoch [0], val_loss: 1.5860, val_acc: 0.7700\n",
            "Epoch [0], val_loss: 1.5855, val_acc: 0.7702\n",
            "Epoch [0], val_loss: 1.5850, val_acc: 0.7698\n",
            "Epoch [0], val_loss: 1.5844, val_acc: 0.7699\n",
            "Epoch [0], val_loss: 1.5839, val_acc: 0.7696\n",
            "Epoch [0], val_loss: 1.5834, val_acc: 0.7696\n",
            "Epoch [0], val_loss: 1.5829, val_acc: 0.7698\n",
            "Epoch [0], val_loss: 1.5824, val_acc: 0.7695\n",
            "Epoch [0], val_loss: 1.5818, val_acc: 0.7696\n",
            "Epoch [0], val_loss: 1.5814, val_acc: 0.7698\n",
            "Epoch [0], val_loss: 1.5808, val_acc: 0.7701\n",
            "Epoch [0], val_loss: 1.5803, val_acc: 0.7704\n",
            "Epoch [0], val_loss: 1.5798, val_acc: 0.7707\n",
            "Epoch [0], val_loss: 1.5792, val_acc: 0.7704\n",
            "Epoch [0], val_loss: 1.5788, val_acc: 0.7705\n",
            "Epoch [0], val_loss: 1.5783, val_acc: 0.7706\n",
            "Epoch [0], val_loss: 1.5777, val_acc: 0.7706\n",
            "Epoch [0], val_loss: 1.5772, val_acc: 0.7712\n",
            "Epoch [0], val_loss: 1.5767, val_acc: 0.7715\n",
            "Epoch [0], val_loss: 1.5761, val_acc: 0.7715\n",
            "Epoch [0], val_loss: 1.5756, val_acc: 0.7711\n",
            "Epoch [0], val_loss: 1.5751, val_acc: 0.7716\n",
            "Epoch [0], val_loss: 1.5745, val_acc: 0.7715\n",
            "Epoch [0], val_loss: 1.5740, val_acc: 0.7716\n",
            "Epoch [0], val_loss: 1.5734, val_acc: 0.7715\n",
            "Epoch [0], val_loss: 1.5729, val_acc: 0.7719\n",
            "Epoch [0], val_loss: 1.5724, val_acc: 0.7718\n",
            "Epoch [0], val_loss: 1.5718, val_acc: 0.7718\n",
            "Epoch [0], val_loss: 1.5713, val_acc: 0.7720\n",
            "Epoch [0], val_loss: 1.5708, val_acc: 0.7719\n",
            "Epoch [0], val_loss: 1.5703, val_acc: 0.7721\n",
            "Epoch [0], val_loss: 1.5697, val_acc: 0.7721\n",
            "Epoch [0], val_loss: 1.5692, val_acc: 0.7717\n",
            "Epoch [0], val_loss: 1.5687, val_acc: 0.7717\n",
            "Epoch [0], val_loss: 1.5681, val_acc: 0.7717\n",
            "Epoch [0], val_loss: 1.5676, val_acc: 0.7715\n",
            "Epoch [0], val_loss: 1.5671, val_acc: 0.7717\n",
            "Epoch [0], val_loss: 1.5666, val_acc: 0.7720\n",
            "Epoch [0], val_loss: 1.5661, val_acc: 0.7721\n",
            "Epoch [0], val_loss: 1.5656, val_acc: 0.7722\n",
            "Epoch [0], val_loss: 1.5651, val_acc: 0.7724\n",
            "Epoch [0], val_loss: 1.5646, val_acc: 0.7717\n",
            "Epoch [0], val_loss: 1.5641, val_acc: 0.7719\n",
            "Epoch [0], val_loss: 1.5635, val_acc: 0.7720\n",
            "Epoch [0], val_loss: 1.5629, val_acc: 0.7720\n",
            "Epoch [0], val_loss: 1.5624, val_acc: 0.7720\n",
            "Epoch [0], val_loss: 1.5619, val_acc: 0.7723\n",
            "Epoch [0], val_loss: 1.5613, val_acc: 0.7723\n",
            "Epoch [0], val_loss: 1.5608, val_acc: 0.7720\n",
            "Epoch [0], val_loss: 1.5603, val_acc: 0.7723\n",
            "Epoch [0], val_loss: 1.5598, val_acc: 0.7725\n",
            "Epoch [0], val_loss: 1.5593, val_acc: 0.7726\n",
            "Epoch [0], val_loss: 1.5587, val_acc: 0.7728\n",
            "Epoch [0], val_loss: 1.5582, val_acc: 0.7731\n",
            "Epoch [0], val_loss: 1.5577, val_acc: 0.7728\n",
            "Epoch [0], val_loss: 1.5572, val_acc: 0.7730\n",
            "Epoch [0], val_loss: 1.5567, val_acc: 0.7735\n",
            "Epoch [0], val_loss: 1.5562, val_acc: 0.7741\n",
            "Epoch [0], val_loss: 1.5557, val_acc: 0.7736\n",
            "Epoch [0], val_loss: 1.5552, val_acc: 0.7735\n",
            "Epoch [0], val_loss: 1.5547, val_acc: 0.7732\n",
            "Epoch [0], val_loss: 1.5542, val_acc: 0.7733\n",
            "Epoch [0], val_loss: 1.5537, val_acc: 0.7734\n",
            "Epoch [0], val_loss: 1.5532, val_acc: 0.7739\n",
            "Epoch [0], val_loss: 1.5526, val_acc: 0.7733\n",
            "Epoch [0], val_loss: 1.5522, val_acc: 0.7737\n",
            "Epoch [0], val_loss: 1.5517, val_acc: 0.7739\n",
            "Epoch [0], val_loss: 1.5512, val_acc: 0.7737\n",
            "Epoch [0], val_loss: 1.5506, val_acc: 0.7738\n",
            "Epoch [0], val_loss: 1.5502, val_acc: 0.7738\n",
            "Epoch [0], val_loss: 1.5496, val_acc: 0.7738\n",
            "Epoch [0], val_loss: 1.5491, val_acc: 0.7737\n",
            "Epoch [0], val_loss: 1.5486, val_acc: 0.7740\n",
            "Epoch [0], val_loss: 1.5481, val_acc: 0.7736\n",
            "Epoch [0], val_loss: 1.5476, val_acc: 0.7743\n",
            "Epoch [0], val_loss: 1.5471, val_acc: 0.7737\n",
            "Epoch [0], val_loss: 1.5466, val_acc: 0.7740\n",
            "Epoch [0], val_loss: 1.5461, val_acc: 0.7741\n",
            "Epoch [0], val_loss: 1.5456, val_acc: 0.7743\n",
            "Epoch [0], val_loss: 1.5451, val_acc: 0.7746\n",
            "Epoch [0], val_loss: 1.5446, val_acc: 0.7753\n",
            "Epoch [0], val_loss: 1.5442, val_acc: 0.7751\n",
            "Epoch [0], val_loss: 1.5436, val_acc: 0.7755\n",
            "Epoch [0], val_loss: 1.5431, val_acc: 0.7751\n",
            "Epoch [0], val_loss: 1.5426, val_acc: 0.7748\n",
            "Epoch [0], val_loss: 1.5421, val_acc: 0.7748\n",
            "Epoch [0], val_loss: 1.5416, val_acc: 0.7747\n",
            "Epoch [0], val_loss: 1.5411, val_acc: 0.7750\n",
            "Epoch [0], val_loss: 1.5406, val_acc: 0.7751\n",
            "Epoch [0], val_loss: 1.5401, val_acc: 0.7754\n",
            "Epoch [0], val_loss: 1.5396, val_acc: 0.7753\n",
            "Epoch [0], val_loss: 1.5391, val_acc: 0.7754\n",
            "Epoch [0], val_loss: 1.5386, val_acc: 0.7755\n",
            "Epoch [0], val_loss: 1.5380, val_acc: 0.7754\n",
            "Epoch [0], val_loss: 1.5375, val_acc: 0.7760\n",
            "Epoch [0], val_loss: 1.5370, val_acc: 0.7762\n",
            "Epoch [0], val_loss: 1.5365, val_acc: 0.7761\n",
            "Epoch [0], val_loss: 1.5361, val_acc: 0.7764\n",
            "Epoch [0], val_loss: 1.5356, val_acc: 0.7762\n",
            "Epoch [0], val_loss: 1.5350, val_acc: 0.7763\n",
            "Epoch [0], val_loss: 1.5345, val_acc: 0.7764\n",
            "Epoch [0], val_loss: 1.5340, val_acc: 0.7766\n",
            "Epoch [0], val_loss: 1.5335, val_acc: 0.7765\n",
            "Epoch [0], val_loss: 1.5330, val_acc: 0.7766\n",
            "Epoch [0], val_loss: 1.5325, val_acc: 0.7763\n",
            "Epoch [0], val_loss: 1.5320, val_acc: 0.7761\n",
            "Epoch [0], val_loss: 1.5315, val_acc: 0.7762\n",
            "Epoch [0], val_loss: 1.5310, val_acc: 0.7762\n",
            "Epoch [0], val_loss: 1.5305, val_acc: 0.7762\n",
            "Epoch [0], val_loss: 1.5300, val_acc: 0.7765\n",
            "Epoch [0], val_loss: 1.5295, val_acc: 0.7767\n",
            "Epoch [0], val_loss: 1.5290, val_acc: 0.7767\n",
            "Epoch [0], val_loss: 1.5285, val_acc: 0.7771\n",
            "Epoch [0], val_loss: 1.5280, val_acc: 0.7768\n",
            "Epoch [0], val_loss: 1.5275, val_acc: 0.7770\n",
            "Epoch [0], val_loss: 1.5270, val_acc: 0.7764\n",
            "Epoch [0], val_loss: 1.5265, val_acc: 0.7765\n",
            "Epoch [0], val_loss: 1.5260, val_acc: 0.7770\n",
            "Epoch [0], val_loss: 1.5255, val_acc: 0.7766\n",
            "Epoch [0], val_loss: 1.5250, val_acc: 0.7767\n",
            "Epoch [0], val_loss: 1.5245, val_acc: 0.7770\n",
            "Epoch [0], val_loss: 1.5241, val_acc: 0.7769\n",
            "Epoch [0], val_loss: 1.5236, val_acc: 0.7768\n",
            "Epoch [0], val_loss: 1.5231, val_acc: 0.7766\n",
            "Epoch [0], val_loss: 1.5226, val_acc: 0.7767\n",
            "Epoch [0], val_loss: 1.5221, val_acc: 0.7769\n",
            "Epoch [0], val_loss: 1.5216, val_acc: 0.7769\n",
            "Epoch [0], val_loss: 1.5212, val_acc: 0.7772\n",
            "Epoch [0], val_loss: 1.5207, val_acc: 0.7770\n",
            "Epoch [0], val_loss: 1.5202, val_acc: 0.7770\n",
            "Epoch [0], val_loss: 1.5197, val_acc: 0.7775\n",
            "Epoch [0], val_loss: 1.5192, val_acc: 0.7774\n",
            "Epoch [0], val_loss: 1.5187, val_acc: 0.7774\n",
            "Epoch [0], val_loss: 1.5182, val_acc: 0.7776\n",
            "Epoch [0], val_loss: 1.5177, val_acc: 0.7777\n",
            "Epoch [0], val_loss: 1.5172, val_acc: 0.7778\n",
            "Epoch [0], val_loss: 1.5168, val_acc: 0.7777\n",
            "Epoch [0], val_loss: 1.5163, val_acc: 0.7777\n",
            "Epoch [0], val_loss: 1.5158, val_acc: 0.7780\n",
            "Epoch [0], val_loss: 1.5153, val_acc: 0.7779\n",
            "Epoch [0], val_loss: 1.5148, val_acc: 0.7780\n",
            "Epoch [0], val_loss: 1.5144, val_acc: 0.7785\n",
            "Epoch [0], val_loss: 1.5138, val_acc: 0.7784\n",
            "Epoch [0], val_loss: 1.5133, val_acc: 0.7784\n",
            "Epoch [0], val_loss: 1.5129, val_acc: 0.7787\n",
            "Epoch [0], val_loss: 1.5124, val_acc: 0.7787\n",
            "Epoch [0], val_loss: 1.5119, val_acc: 0.7789\n",
            "Epoch [0], val_loss: 1.5114, val_acc: 0.7789\n",
            "Epoch [0], val_loss: 1.5109, val_acc: 0.7787\n",
            "Epoch [0], val_loss: 1.5104, val_acc: 0.7787\n",
            "Epoch [0], val_loss: 1.5100, val_acc: 0.7788\n",
            "Epoch [0], val_loss: 1.5095, val_acc: 0.7789\n",
            "Epoch [0], val_loss: 1.5091, val_acc: 0.7787\n",
            "Epoch [0], val_loss: 1.5086, val_acc: 0.7790\n",
            "Epoch [0], val_loss: 1.5081, val_acc: 0.7795\n",
            "Epoch [0], val_loss: 1.5076, val_acc: 0.7795\n",
            "Epoch [0], val_loss: 1.5071, val_acc: 0.7796\n",
            "Epoch [0], val_loss: 1.5066, val_acc: 0.7789\n",
            "Epoch [0], val_loss: 1.5061, val_acc: 0.7795\n",
            "Epoch [0], val_loss: 1.5056, val_acc: 0.7796\n",
            "Epoch [0], val_loss: 1.5051, val_acc: 0.7790\n",
            "Epoch [0], val_loss: 1.5047, val_acc: 0.7796\n",
            "Epoch [0], val_loss: 1.5043, val_acc: 0.7797\n",
            "Epoch [0], val_loss: 1.5038, val_acc: 0.7795\n",
            "Epoch [0], val_loss: 1.5034, val_acc: 0.7795\n",
            "Epoch [0], val_loss: 1.5029, val_acc: 0.7798\n",
            "Epoch [0], val_loss: 1.5024, val_acc: 0.7800\n",
            "Epoch [0], val_loss: 1.5020, val_acc: 0.7801\n",
            "Epoch [0], val_loss: 1.5015, val_acc: 0.7801\n",
            "Epoch [0], val_loss: 1.5011, val_acc: 0.7800\n",
            "Epoch [0], val_loss: 1.5006, val_acc: 0.7798\n",
            "Epoch [0], val_loss: 1.5001, val_acc: 0.7790\n",
            "Epoch [0], val_loss: 1.4996, val_acc: 0.7794\n",
            "Epoch [0], val_loss: 1.4991, val_acc: 0.7794\n",
            "Epoch [0], val_loss: 1.4987, val_acc: 0.7796\n",
            "Epoch [0], val_loss: 1.4982, val_acc: 0.7796\n",
            "Epoch [0], val_loss: 1.4978, val_acc: 0.7791\n",
            "Epoch [0], val_loss: 1.4973, val_acc: 0.7793\n",
            "Epoch [0], val_loss: 1.4968, val_acc: 0.7795\n",
            "Epoch [0], val_loss: 1.4964, val_acc: 0.7793\n",
            "Epoch [0], val_loss: 1.4958, val_acc: 0.7795\n",
            "Epoch [0], val_loss: 1.4954, val_acc: 0.7795\n",
            "Epoch [0], val_loss: 1.4949, val_acc: 0.7792\n",
            "Epoch [0], val_loss: 1.4944, val_acc: 0.7796\n",
            "Epoch [0], val_loss: 1.4940, val_acc: 0.7795\n",
            "Epoch [0], val_loss: 1.4935, val_acc: 0.7795\n",
            "Epoch [0], val_loss: 1.4930, val_acc: 0.7794\n",
            "Epoch [0], val_loss: 1.4926, val_acc: 0.7798\n",
            "Epoch [0], val_loss: 1.4921, val_acc: 0.7796\n",
            "Epoch [0], val_loss: 1.4916, val_acc: 0.7802\n",
            "Epoch [0], val_loss: 1.4911, val_acc: 0.7797\n",
            "Epoch [0], val_loss: 1.4907, val_acc: 0.7799\n",
            "Epoch [0], val_loss: 1.4902, val_acc: 0.7801\n",
            "Epoch [0], val_loss: 1.4898, val_acc: 0.7799\n",
            "Epoch [0], val_loss: 1.4893, val_acc: 0.7798\n",
            "Epoch [0], val_loss: 1.4888, val_acc: 0.7798\n",
            "Epoch [0], val_loss: 1.4884, val_acc: 0.7798\n",
            "Epoch [0], val_loss: 1.4879, val_acc: 0.7804\n",
            "Epoch [0], val_loss: 1.4874, val_acc: 0.7802\n",
            "Epoch [0], val_loss: 1.4870, val_acc: 0.7803\n",
            "Epoch [0], val_loss: 1.4865, val_acc: 0.7805\n",
            "Epoch [0], val_loss: 1.4861, val_acc: 0.7806\n",
            "Epoch [0], val_loss: 1.4856, val_acc: 0.7807\n",
            "Epoch [0], val_loss: 1.4852, val_acc: 0.7806\n",
            "Epoch [0], val_loss: 1.4847, val_acc: 0.7807\n",
            "Epoch [0], val_loss: 1.4842, val_acc: 0.7808\n",
            "Epoch [0], val_loss: 1.4838, val_acc: 0.7809\n",
            "Epoch [0], val_loss: 1.4833, val_acc: 0.7810\n",
            "Epoch [0], val_loss: 1.4829, val_acc: 0.7811\n",
            "Epoch [0], val_loss: 1.4824, val_acc: 0.7812\n",
            "Epoch [0], val_loss: 1.4820, val_acc: 0.7810\n",
            "Epoch [0], val_loss: 1.4815, val_acc: 0.7811\n",
            "Epoch [0], val_loss: 1.4810, val_acc: 0.7814\n",
            "Epoch [0], val_loss: 1.4806, val_acc: 0.7814\n",
            "Epoch [0], val_loss: 1.4802, val_acc: 0.7821\n",
            "Epoch [0], val_loss: 1.4797, val_acc: 0.7817\n",
            "Epoch [0], val_loss: 1.4792, val_acc: 0.7819\n",
            "Epoch [0], val_loss: 1.4787, val_acc: 0.7818\n",
            "Epoch [0], val_loss: 1.4783, val_acc: 0.7819\n",
            "Epoch [0], val_loss: 1.4778, val_acc: 0.7822\n",
            "Epoch [0], val_loss: 1.4773, val_acc: 0.7825\n",
            "Epoch [0], val_loss: 1.4769, val_acc: 0.7827\n",
            "Epoch [0], val_loss: 1.4765, val_acc: 0.7829\n",
            "Epoch [0], val_loss: 1.4760, val_acc: 0.7831\n",
            "Epoch [0], val_loss: 1.4755, val_acc: 0.7829\n",
            "Epoch [0], val_loss: 1.4751, val_acc: 0.7825\n",
            "Epoch [0], val_loss: 1.4746, val_acc: 0.7828\n",
            "Epoch [0], val_loss: 1.4742, val_acc: 0.7827\n",
            "Epoch [0], val_loss: 1.4737, val_acc: 0.7829\n",
            "Epoch [0], val_loss: 1.4733, val_acc: 0.7832\n",
            "Epoch [0], val_loss: 1.4729, val_acc: 0.7832\n"
          ]
        }
      ]
    },
    {
      "cell_type": "code",
      "source": [
        "history4 = fit(5, 0.001, model, train_loader, val_loader)"
      ],
      "metadata": {
        "colab": {
          "base_uri": "https://localhost:8080/"
        },
        "id": "3XTM4wAVvMBk",
        "outputId": "a8510500-e721-4aa1-d74a-3f11dd1be744"
      },
      "execution_count": null,
      "outputs": [
        {
          "output_type": "stream",
          "name": "stdout",
          "text": [
            "Epoch [0], val_loss: 1.4724, val_acc: 0.7829\n",
            "Epoch [0], val_loss: 1.4720, val_acc: 0.7832\n",
            "Epoch [0], val_loss: 1.4715, val_acc: 0.7835\n",
            "Epoch [0], val_loss: 1.4711, val_acc: 0.7835\n",
            "Epoch [0], val_loss: 1.4706, val_acc: 0.7839\n",
            "Epoch [0], val_loss: 1.4702, val_acc: 0.7840\n",
            "Epoch [0], val_loss: 1.4697, val_acc: 0.7836\n",
            "Epoch [0], val_loss: 1.4693, val_acc: 0.7832\n",
            "Epoch [0], val_loss: 1.4688, val_acc: 0.7835\n",
            "Epoch [0], val_loss: 1.4684, val_acc: 0.7835\n",
            "Epoch [0], val_loss: 1.4679, val_acc: 0.7836\n",
            "Epoch [0], val_loss: 1.4675, val_acc: 0.7837\n",
            "Epoch [0], val_loss: 1.4670, val_acc: 0.7833\n",
            "Epoch [0], val_loss: 1.4665, val_acc: 0.7832\n",
            "Epoch [0], val_loss: 1.4661, val_acc: 0.7838\n",
            "Epoch [0], val_loss: 1.4656, val_acc: 0.7836\n",
            "Epoch [0], val_loss: 1.4652, val_acc: 0.7839\n",
            "Epoch [0], val_loss: 1.4647, val_acc: 0.7837\n",
            "Epoch [0], val_loss: 1.4643, val_acc: 0.7835\n",
            "Epoch [0], val_loss: 1.4638, val_acc: 0.7838\n",
            "Epoch [0], val_loss: 1.4634, val_acc: 0.7839\n",
            "Epoch [0], val_loss: 1.4629, val_acc: 0.7834\n",
            "Epoch [0], val_loss: 1.4625, val_acc: 0.7834\n",
            "Epoch [0], val_loss: 1.4620, val_acc: 0.7842\n",
            "Epoch [0], val_loss: 1.4616, val_acc: 0.7845\n",
            "Epoch [0], val_loss: 1.4612, val_acc: 0.7847\n",
            "Epoch [0], val_loss: 1.4608, val_acc: 0.7847\n",
            "Epoch [0], val_loss: 1.4603, val_acc: 0.7847\n",
            "Epoch [0], val_loss: 1.4599, val_acc: 0.7846\n",
            "Epoch [0], val_loss: 1.4595, val_acc: 0.7846\n",
            "Epoch [0], val_loss: 1.4590, val_acc: 0.7846\n",
            "Epoch [0], val_loss: 1.4586, val_acc: 0.7848\n",
            "Epoch [0], val_loss: 1.4582, val_acc: 0.7849\n",
            "Epoch [0], val_loss: 1.4577, val_acc: 0.7844\n",
            "Epoch [0], val_loss: 1.4573, val_acc: 0.7844\n",
            "Epoch [0], val_loss: 1.4569, val_acc: 0.7843\n",
            "Epoch [0], val_loss: 1.4564, val_acc: 0.7842\n",
            "Epoch [0], val_loss: 1.4560, val_acc: 0.7846\n",
            "Epoch [0], val_loss: 1.4556, val_acc: 0.7845\n",
            "Epoch [0], val_loss: 1.4552, val_acc: 0.7847\n",
            "Epoch [0], val_loss: 1.4547, val_acc: 0.7850\n",
            "Epoch [0], val_loss: 1.4543, val_acc: 0.7847\n",
            "Epoch [0], val_loss: 1.4539, val_acc: 0.7847\n",
            "Epoch [0], val_loss: 1.4535, val_acc: 0.7850\n",
            "Epoch [0], val_loss: 1.4530, val_acc: 0.7851\n",
            "Epoch [0], val_loss: 1.4526, val_acc: 0.7850\n",
            "Epoch [0], val_loss: 1.4521, val_acc: 0.7848\n",
            "Epoch [0], val_loss: 1.4517, val_acc: 0.7847\n",
            "Epoch [0], val_loss: 1.4513, val_acc: 0.7848\n",
            "Epoch [0], val_loss: 1.4508, val_acc: 0.7850\n",
            "Epoch [0], val_loss: 1.4504, val_acc: 0.7850\n",
            "Epoch [0], val_loss: 1.4499, val_acc: 0.7850\n",
            "Epoch [0], val_loss: 1.4495, val_acc: 0.7849\n",
            "Epoch [0], val_loss: 1.4490, val_acc: 0.7850\n",
            "Epoch [0], val_loss: 1.4486, val_acc: 0.7853\n",
            "Epoch [0], val_loss: 1.4482, val_acc: 0.7851\n",
            "Epoch [0], val_loss: 1.4477, val_acc: 0.7859\n",
            "Epoch [0], val_loss: 1.4473, val_acc: 0.7855\n",
            "Epoch [0], val_loss: 1.4468, val_acc: 0.7857\n",
            "Epoch [0], val_loss: 1.4464, val_acc: 0.7852\n",
            "Epoch [0], val_loss: 1.4460, val_acc: 0.7852\n",
            "Epoch [0], val_loss: 1.4455, val_acc: 0.7854\n",
            "Epoch [0], val_loss: 1.4451, val_acc: 0.7853\n",
            "Epoch [0], val_loss: 1.4446, val_acc: 0.7854\n",
            "Epoch [0], val_loss: 1.4442, val_acc: 0.7854\n",
            "Epoch [0], val_loss: 1.4438, val_acc: 0.7856\n",
            "Epoch [0], val_loss: 1.4433, val_acc: 0.7854\n",
            "Epoch [0], val_loss: 1.4430, val_acc: 0.7856\n",
            "Epoch [0], val_loss: 1.4425, val_acc: 0.7859\n",
            "Epoch [0], val_loss: 1.4421, val_acc: 0.7855\n",
            "Epoch [0], val_loss: 1.4417, val_acc: 0.7864\n",
            "Epoch [0], val_loss: 1.4412, val_acc: 0.7855\n",
            "Epoch [0], val_loss: 1.4408, val_acc: 0.7863\n",
            "Epoch [0], val_loss: 1.4404, val_acc: 0.7866\n",
            "Epoch [0], val_loss: 1.4399, val_acc: 0.7858\n",
            "Epoch [0], val_loss: 1.4395, val_acc: 0.7865\n",
            "Epoch [0], val_loss: 1.4391, val_acc: 0.7869\n",
            "Epoch [0], val_loss: 1.4386, val_acc: 0.7864\n",
            "Epoch [0], val_loss: 1.4382, val_acc: 0.7864\n",
            "Epoch [0], val_loss: 1.4377, val_acc: 0.7870\n",
            "Epoch [0], val_loss: 1.4373, val_acc: 0.7867\n",
            "Epoch [0], val_loss: 1.4369, val_acc: 0.7865\n",
            "Epoch [0], val_loss: 1.4364, val_acc: 0.7872\n",
            "Epoch [0], val_loss: 1.4360, val_acc: 0.7868\n",
            "Epoch [0], val_loss: 1.4356, val_acc: 0.7874\n",
            "Epoch [0], val_loss: 1.4351, val_acc: 0.7873\n",
            "Epoch [0], val_loss: 1.4347, val_acc: 0.7868\n",
            "Epoch [0], val_loss: 1.4343, val_acc: 0.7870\n",
            "Epoch [0], val_loss: 1.4338, val_acc: 0.7872\n",
            "Epoch [0], val_loss: 1.4334, val_acc: 0.7866\n",
            "Epoch [0], val_loss: 1.4330, val_acc: 0.7865\n",
            "Epoch [0], val_loss: 1.4326, val_acc: 0.7865\n",
            "Epoch [0], val_loss: 1.4322, val_acc: 0.7868\n",
            "Epoch [0], val_loss: 1.4318, val_acc: 0.7867\n",
            "Epoch [0], val_loss: 1.4313, val_acc: 0.7873\n",
            "Epoch [0], val_loss: 1.4309, val_acc: 0.7876\n",
            "Epoch [0], val_loss: 1.4305, val_acc: 0.7872\n",
            "Epoch [0], val_loss: 1.4301, val_acc: 0.7874\n",
            "Epoch [0], val_loss: 1.4296, val_acc: 0.7874\n",
            "Epoch [0], val_loss: 1.4292, val_acc: 0.7875\n",
            "Epoch [0], val_loss: 1.4288, val_acc: 0.7875\n",
            "Epoch [0], val_loss: 1.4283, val_acc: 0.7872\n",
            "Epoch [0], val_loss: 1.4279, val_acc: 0.7874\n",
            "Epoch [0], val_loss: 1.4275, val_acc: 0.7876\n",
            "Epoch [0], val_loss: 1.4271, val_acc: 0.7874\n",
            "Epoch [0], val_loss: 1.4267, val_acc: 0.7879\n",
            "Epoch [0], val_loss: 1.4263, val_acc: 0.7877\n",
            "Epoch [0], val_loss: 1.4259, val_acc: 0.7878\n",
            "Epoch [0], val_loss: 1.4255, val_acc: 0.7877\n",
            "Epoch [0], val_loss: 1.4251, val_acc: 0.7877\n",
            "Epoch [0], val_loss: 1.4247, val_acc: 0.7875\n",
            "Epoch [0], val_loss: 1.4242, val_acc: 0.7876\n",
            "Epoch [0], val_loss: 1.4238, val_acc: 0.7875\n",
            "Epoch [0], val_loss: 1.4235, val_acc: 0.7875\n",
            "Epoch [0], val_loss: 1.4230, val_acc: 0.7877\n",
            "Epoch [0], val_loss: 1.4226, val_acc: 0.7881\n",
            "Epoch [0], val_loss: 1.4221, val_acc: 0.7882\n",
            "Epoch [0], val_loss: 1.4217, val_acc: 0.7887\n",
            "Epoch [0], val_loss: 1.4213, val_acc: 0.7884\n",
            "Epoch [0], val_loss: 1.4208, val_acc: 0.7883\n",
            "Epoch [0], val_loss: 1.4204, val_acc: 0.7883\n",
            "Epoch [0], val_loss: 1.4199, val_acc: 0.7879\n",
            "Epoch [0], val_loss: 1.4195, val_acc: 0.7881\n",
            "Epoch [0], val_loss: 1.4191, val_acc: 0.7880\n",
            "Epoch [0], val_loss: 1.4187, val_acc: 0.7880\n",
            "Epoch [0], val_loss: 1.4182, val_acc: 0.7879\n",
            "Epoch [0], val_loss: 1.4178, val_acc: 0.7880\n",
            "Epoch [0], val_loss: 1.4174, val_acc: 0.7881\n",
            "Epoch [0], val_loss: 1.4170, val_acc: 0.7884\n",
            "Epoch [0], val_loss: 1.4165, val_acc: 0.7886\n",
            "Epoch [0], val_loss: 1.4161, val_acc: 0.7886\n",
            "Epoch [0], val_loss: 1.4157, val_acc: 0.7885\n",
            "Epoch [0], val_loss: 1.4153, val_acc: 0.7882\n",
            "Epoch [0], val_loss: 1.4149, val_acc: 0.7883\n",
            "Epoch [0], val_loss: 1.4145, val_acc: 0.7883\n",
            "Epoch [0], val_loss: 1.4141, val_acc: 0.7882\n",
            "Epoch [0], val_loss: 1.4136, val_acc: 0.7882\n",
            "Epoch [0], val_loss: 1.4132, val_acc: 0.7882\n",
            "Epoch [0], val_loss: 1.4128, val_acc: 0.7883\n",
            "Epoch [0], val_loss: 1.4124, val_acc: 0.7879\n",
            "Epoch [0], val_loss: 1.4120, val_acc: 0.7882\n",
            "Epoch [0], val_loss: 1.4116, val_acc: 0.7883\n",
            "Epoch [0], val_loss: 1.4111, val_acc: 0.7884\n",
            "Epoch [0], val_loss: 1.4107, val_acc: 0.7885\n",
            "Epoch [0], val_loss: 1.4103, val_acc: 0.7887\n",
            "Epoch [0], val_loss: 1.4099, val_acc: 0.7887\n",
            "Epoch [0], val_loss: 1.4095, val_acc: 0.7887\n",
            "Epoch [0], val_loss: 1.4091, val_acc: 0.7888\n",
            "Epoch [0], val_loss: 1.4087, val_acc: 0.7888\n",
            "Epoch [0], val_loss: 1.4083, val_acc: 0.7888\n",
            "Epoch [0], val_loss: 1.4079, val_acc: 0.7890\n",
            "Epoch [0], val_loss: 1.4075, val_acc: 0.7893\n",
            "Epoch [0], val_loss: 1.4071, val_acc: 0.7894\n",
            "Epoch [0], val_loss: 1.4067, val_acc: 0.7894\n",
            "Epoch [0], val_loss: 1.4063, val_acc: 0.7895\n",
            "Epoch [0], val_loss: 1.4059, val_acc: 0.7898\n",
            "Epoch [0], val_loss: 1.4055, val_acc: 0.7897\n",
            "Epoch [0], val_loss: 1.4051, val_acc: 0.7895\n",
            "Epoch [0], val_loss: 1.4047, val_acc: 0.7895\n",
            "Epoch [0], val_loss: 1.4043, val_acc: 0.7896\n",
            "Epoch [0], val_loss: 1.4039, val_acc: 0.7900\n",
            "Epoch [0], val_loss: 1.4035, val_acc: 0.7897\n",
            "Epoch [0], val_loss: 1.4031, val_acc: 0.7899\n",
            "Epoch [0], val_loss: 1.4027, val_acc: 0.7900\n",
            "Epoch [0], val_loss: 1.4023, val_acc: 0.7900\n",
            "Epoch [0], val_loss: 1.4019, val_acc: 0.7902\n",
            "Epoch [0], val_loss: 1.4015, val_acc: 0.7903\n",
            "Epoch [0], val_loss: 1.4011, val_acc: 0.7904\n",
            "Epoch [0], val_loss: 1.4007, val_acc: 0.7902\n",
            "Epoch [0], val_loss: 1.4004, val_acc: 0.7902\n",
            "Epoch [0], val_loss: 1.4000, val_acc: 0.7902\n",
            "Epoch [0], val_loss: 1.3996, val_acc: 0.7902\n",
            "Epoch [0], val_loss: 1.3992, val_acc: 0.7903\n",
            "Epoch [0], val_loss: 1.3987, val_acc: 0.7906\n",
            "Epoch [0], val_loss: 1.3983, val_acc: 0.7907\n",
            "Epoch [0], val_loss: 1.3979, val_acc: 0.7907\n",
            "Epoch [0], val_loss: 1.3976, val_acc: 0.7908\n",
            "Epoch [0], val_loss: 1.3971, val_acc: 0.7906\n",
            "Epoch [0], val_loss: 1.3967, val_acc: 0.7908\n",
            "Epoch [0], val_loss: 1.3963, val_acc: 0.7906\n",
            "Epoch [0], val_loss: 1.3959, val_acc: 0.7905\n",
            "Epoch [0], val_loss: 1.3955, val_acc: 0.7902\n",
            "Epoch [0], val_loss: 1.3951, val_acc: 0.7904\n",
            "Epoch [0], val_loss: 1.3947, val_acc: 0.7906\n",
            "Epoch [0], val_loss: 1.3944, val_acc: 0.7905\n",
            "Epoch [0], val_loss: 1.3939, val_acc: 0.7909\n",
            "Epoch [0], val_loss: 1.3936, val_acc: 0.7909\n",
            "Epoch [0], val_loss: 1.3932, val_acc: 0.7909\n",
            "Epoch [0], val_loss: 1.3928, val_acc: 0.7908\n",
            "Epoch [0], val_loss: 1.3924, val_acc: 0.7907\n",
            "Epoch [0], val_loss: 1.3920, val_acc: 0.7909\n",
            "Epoch [0], val_loss: 1.3916, val_acc: 0.7912\n",
            "Epoch [0], val_loss: 1.3912, val_acc: 0.7913\n",
            "Epoch [0], val_loss: 1.3908, val_acc: 0.7913\n",
            "Epoch [0], val_loss: 1.3904, val_acc: 0.7910\n",
            "Epoch [0], val_loss: 1.3900, val_acc: 0.7911\n",
            "Epoch [0], val_loss: 1.3896, val_acc: 0.7914\n",
            "Epoch [0], val_loss: 1.3892, val_acc: 0.7915\n",
            "Epoch [0], val_loss: 1.3888, val_acc: 0.7917\n",
            "Epoch [0], val_loss: 1.3884, val_acc: 0.7918\n",
            "Epoch [0], val_loss: 1.3880, val_acc: 0.7915\n",
            "Epoch [0], val_loss: 1.3877, val_acc: 0.7919\n",
            "Epoch [0], val_loss: 1.3873, val_acc: 0.7918\n",
            "Epoch [0], val_loss: 1.3869, val_acc: 0.7917\n",
            "Epoch [0], val_loss: 1.3865, val_acc: 0.7916\n",
            "Epoch [0], val_loss: 1.3861, val_acc: 0.7917\n",
            "Epoch [0], val_loss: 1.3857, val_acc: 0.7920\n",
            "Epoch [0], val_loss: 1.3853, val_acc: 0.7923\n",
            "Epoch [0], val_loss: 1.3849, val_acc: 0.7923\n",
            "Epoch [0], val_loss: 1.3845, val_acc: 0.7923\n",
            "Epoch [0], val_loss: 1.3842, val_acc: 0.7922\n",
            "Epoch [0], val_loss: 1.3838, val_acc: 0.7924\n",
            "Epoch [0], val_loss: 1.3834, val_acc: 0.7923\n",
            "Epoch [0], val_loss: 1.3830, val_acc: 0.7923\n",
            "Epoch [0], val_loss: 1.3826, val_acc: 0.7924\n",
            "Epoch [0], val_loss: 1.3822, val_acc: 0.7925\n",
            "Epoch [0], val_loss: 1.3818, val_acc: 0.7926\n",
            "Epoch [0], val_loss: 1.3814, val_acc: 0.7926\n",
            "Epoch [0], val_loss: 1.3810, val_acc: 0.7925\n",
            "Epoch [0], val_loss: 1.3806, val_acc: 0.7929\n",
            "Epoch [0], val_loss: 1.3803, val_acc: 0.7931\n",
            "Epoch [0], val_loss: 1.3799, val_acc: 0.7933\n",
            "Epoch [0], val_loss: 1.3795, val_acc: 0.7932\n",
            "Epoch [0], val_loss: 1.3791, val_acc: 0.7927\n",
            "Epoch [0], val_loss: 1.3787, val_acc: 0.7925\n",
            "Epoch [0], val_loss: 1.3783, val_acc: 0.7927\n",
            "Epoch [0], val_loss: 1.3779, val_acc: 0.7925\n",
            "Epoch [0], val_loss: 1.3775, val_acc: 0.7927\n",
            "Epoch [0], val_loss: 1.3771, val_acc: 0.7928\n",
            "Epoch [0], val_loss: 1.3767, val_acc: 0.7928\n",
            "Epoch [0], val_loss: 1.3764, val_acc: 0.7930\n",
            "Epoch [0], val_loss: 1.3760, val_acc: 0.7929\n",
            "Epoch [0], val_loss: 1.3756, val_acc: 0.7934\n",
            "Epoch [0], val_loss: 1.3752, val_acc: 0.7929\n",
            "Epoch [0], val_loss: 1.3749, val_acc: 0.7934\n",
            "Epoch [0], val_loss: 1.3745, val_acc: 0.7932\n",
            "Epoch [0], val_loss: 1.3741, val_acc: 0.7931\n",
            "Epoch [0], val_loss: 1.3737, val_acc: 0.7935\n",
            "Epoch [0], val_loss: 1.3733, val_acc: 0.7935\n",
            "Epoch [0], val_loss: 1.3729, val_acc: 0.7933\n",
            "Epoch [0], val_loss: 1.3725, val_acc: 0.7934\n",
            "Epoch [0], val_loss: 1.3722, val_acc: 0.7939\n",
            "Epoch [0], val_loss: 1.3718, val_acc: 0.7935\n",
            "Epoch [0], val_loss: 1.3714, val_acc: 0.7933\n",
            "Epoch [0], val_loss: 1.3710, val_acc: 0.7933\n",
            "Epoch [0], val_loss: 1.3706, val_acc: 0.7935\n",
            "Epoch [0], val_loss: 1.3702, val_acc: 0.7932\n",
            "Epoch [0], val_loss: 1.3699, val_acc: 0.7932\n",
            "Epoch [0], val_loss: 1.3695, val_acc: 0.7934\n",
            "Epoch [0], val_loss: 1.3691, val_acc: 0.7936\n",
            "Epoch [0], val_loss: 1.3687, val_acc: 0.7940\n",
            "Epoch [0], val_loss: 1.3683, val_acc: 0.7941\n",
            "Epoch [0], val_loss: 1.3679, val_acc: 0.7943\n",
            "Epoch [0], val_loss: 1.3675, val_acc: 0.7947\n",
            "Epoch [0], val_loss: 1.3672, val_acc: 0.7945\n",
            "Epoch [0], val_loss: 1.3668, val_acc: 0.7946\n",
            "Epoch [0], val_loss: 1.3664, val_acc: 0.7947\n",
            "Epoch [0], val_loss: 1.3661, val_acc: 0.7952\n",
            "Epoch [0], val_loss: 1.3657, val_acc: 0.7950\n",
            "Epoch [0], val_loss: 1.3652, val_acc: 0.7953\n",
            "Epoch [0], val_loss: 1.3649, val_acc: 0.7953\n",
            "Epoch [0], val_loss: 1.3645, val_acc: 0.7955\n",
            "Epoch [0], val_loss: 1.3641, val_acc: 0.7957\n",
            "Epoch [0], val_loss: 1.3637, val_acc: 0.7958\n",
            "Epoch [0], val_loss: 1.3634, val_acc: 0.7957\n",
            "Epoch [0], val_loss: 1.3630, val_acc: 0.7959\n",
            "Epoch [0], val_loss: 1.3626, val_acc: 0.7961\n",
            "Epoch [0], val_loss: 1.3623, val_acc: 0.7966\n",
            "Epoch [0], val_loss: 1.3619, val_acc: 0.7959\n",
            "Epoch [0], val_loss: 1.3615, val_acc: 0.7962\n",
            "Epoch [0], val_loss: 1.3612, val_acc: 0.7965\n",
            "Epoch [0], val_loss: 1.3608, val_acc: 0.7966\n",
            "Epoch [0], val_loss: 1.3604, val_acc: 0.7967\n",
            "Epoch [0], val_loss: 1.3600, val_acc: 0.7965\n",
            "Epoch [0], val_loss: 1.3597, val_acc: 0.7966\n",
            "Epoch [0], val_loss: 1.3593, val_acc: 0.7968\n",
            "Epoch [0], val_loss: 1.3589, val_acc: 0.7971\n",
            "Epoch [0], val_loss: 1.3586, val_acc: 0.7971\n",
            "Epoch [0], val_loss: 1.3582, val_acc: 0.7973\n",
            "Epoch [0], val_loss: 1.3578, val_acc: 0.7973\n",
            "Epoch [0], val_loss: 1.3575, val_acc: 0.7976\n",
            "Epoch [0], val_loss: 1.3571, val_acc: 0.7973\n",
            "Epoch [0], val_loss: 1.3567, val_acc: 0.7973\n",
            "Epoch [0], val_loss: 1.3563, val_acc: 0.7974\n",
            "Epoch [0], val_loss: 1.3560, val_acc: 0.7975\n",
            "Epoch [0], val_loss: 1.3556, val_acc: 0.7974\n",
            "Epoch [0], val_loss: 1.3552, val_acc: 0.7977\n",
            "Epoch [0], val_loss: 1.3548, val_acc: 0.7977\n",
            "Epoch [0], val_loss: 1.3545, val_acc: 0.7976\n",
            "Epoch [0], val_loss: 1.3541, val_acc: 0.7976\n",
            "Epoch [0], val_loss: 1.3538, val_acc: 0.7977\n",
            "Epoch [0], val_loss: 1.3533, val_acc: 0.7979\n",
            "Epoch [0], val_loss: 1.3529, val_acc: 0.7978\n",
            "Epoch [0], val_loss: 1.3526, val_acc: 0.7978\n",
            "Epoch [0], val_loss: 1.3522, val_acc: 0.7980\n",
            "Epoch [0], val_loss: 1.3518, val_acc: 0.7978\n",
            "Epoch [0], val_loss: 1.3515, val_acc: 0.7983\n",
            "Epoch [0], val_loss: 1.3511, val_acc: 0.7982\n",
            "Epoch [0], val_loss: 1.3507, val_acc: 0.7982\n",
            "Epoch [0], val_loss: 1.3503, val_acc: 0.7984\n",
            "Epoch [0], val_loss: 1.3500, val_acc: 0.7982\n",
            "Epoch [0], val_loss: 1.3496, val_acc: 0.7986\n",
            "Epoch [0], val_loss: 1.3492, val_acc: 0.7986\n",
            "Epoch [0], val_loss: 1.3488, val_acc: 0.7988\n",
            "Epoch [0], val_loss: 1.3485, val_acc: 0.7990\n",
            "Epoch [0], val_loss: 1.3481, val_acc: 0.7989\n",
            "Epoch [0], val_loss: 1.3478, val_acc: 0.7990\n",
            "Epoch [0], val_loss: 1.3474, val_acc: 0.7990\n",
            "Epoch [0], val_loss: 1.3470, val_acc: 0.7991\n",
            "Epoch [0], val_loss: 1.3466, val_acc: 0.7992\n",
            "Epoch [0], val_loss: 1.3463, val_acc: 0.7992\n",
            "Epoch [0], val_loss: 1.3459, val_acc: 0.7990\n",
            "Epoch [0], val_loss: 1.3455, val_acc: 0.7991\n",
            "Epoch [0], val_loss: 1.3452, val_acc: 0.7991\n",
            "Epoch [0], val_loss: 1.3448, val_acc: 0.7990\n",
            "Epoch [0], val_loss: 1.3445, val_acc: 0.7990\n",
            "Epoch [0], val_loss: 1.3441, val_acc: 0.7991\n",
            "Epoch [0], val_loss: 1.3437, val_acc: 0.7991\n",
            "Epoch [0], val_loss: 1.3434, val_acc: 0.7991\n",
            "Epoch [0], val_loss: 1.3430, val_acc: 0.7991\n",
            "Epoch [0], val_loss: 1.3426, val_acc: 0.7991\n",
            "Epoch [0], val_loss: 1.3423, val_acc: 0.7993\n",
            "Epoch [0], val_loss: 1.3419, val_acc: 0.7996\n",
            "Epoch [0], val_loss: 1.3416, val_acc: 0.7993\n",
            "Epoch [0], val_loss: 1.3412, val_acc: 0.7995\n",
            "Epoch [0], val_loss: 1.3408, val_acc: 0.7993\n",
            "Epoch [0], val_loss: 1.3404, val_acc: 0.7994\n",
            "Epoch [0], val_loss: 1.3401, val_acc: 0.7991\n",
            "Epoch [0], val_loss: 1.3397, val_acc: 0.7992\n",
            "Epoch [0], val_loss: 1.3393, val_acc: 0.7991\n",
            "Epoch [0], val_loss: 1.3390, val_acc: 0.7994\n",
            "Epoch [0], val_loss: 1.3386, val_acc: 0.7994\n",
            "Epoch [0], val_loss: 1.3383, val_acc: 0.7996\n",
            "Epoch [0], val_loss: 1.3379, val_acc: 0.8000\n",
            "Epoch [0], val_loss: 1.3376, val_acc: 0.7999\n",
            "Epoch [0], val_loss: 1.3372, val_acc: 0.8001\n",
            "Epoch [0], val_loss: 1.3368, val_acc: 0.7998\n",
            "Epoch [0], val_loss: 1.3365, val_acc: 0.7997\n",
            "Epoch [0], val_loss: 1.3362, val_acc: 0.7998\n",
            "Epoch [0], val_loss: 1.3358, val_acc: 0.7996\n",
            "Epoch [0], val_loss: 1.3354, val_acc: 0.7996\n",
            "Epoch [0], val_loss: 1.3351, val_acc: 0.7995\n",
            "Epoch [0], val_loss: 1.3347, val_acc: 0.7996\n",
            "Epoch [0], val_loss: 1.3344, val_acc: 0.7999\n",
            "Epoch [0], val_loss: 1.3340, val_acc: 0.7998\n",
            "Epoch [0], val_loss: 1.3336, val_acc: 0.7999\n",
            "Epoch [0], val_loss: 1.3333, val_acc: 0.8002\n",
            "Epoch [0], val_loss: 1.3329, val_acc: 0.8004\n",
            "Epoch [0], val_loss: 1.3326, val_acc: 0.8002\n",
            "Epoch [0], val_loss: 1.3322, val_acc: 0.8004\n",
            "Epoch [0], val_loss: 1.3318, val_acc: 0.8002\n",
            "Epoch [0], val_loss: 1.3315, val_acc: 0.8002\n",
            "Epoch [0], val_loss: 1.3311, val_acc: 0.8002\n",
            "Epoch [0], val_loss: 1.3308, val_acc: 0.8003\n",
            "Epoch [0], val_loss: 1.3304, val_acc: 0.8002\n",
            "Epoch [0], val_loss: 1.3301, val_acc: 0.8005\n",
            "Epoch [0], val_loss: 1.3297, val_acc: 0.8006\n",
            "Epoch [0], val_loss: 1.3294, val_acc: 0.8002\n",
            "Epoch [0], val_loss: 1.3290, val_acc: 0.8005\n",
            "Epoch [0], val_loss: 1.3287, val_acc: 0.8008\n",
            "Epoch [0], val_loss: 1.3283, val_acc: 0.8007\n",
            "Epoch [0], val_loss: 1.3280, val_acc: 0.8006\n",
            "Epoch [0], val_loss: 1.3276, val_acc: 0.8006\n",
            "Epoch [0], val_loss: 1.3273, val_acc: 0.8003\n",
            "Epoch [0], val_loss: 1.3269, val_acc: 0.8002\n",
            "Epoch [0], val_loss: 1.3265, val_acc: 0.8002\n",
            "Epoch [0], val_loss: 1.3262, val_acc: 0.8003\n",
            "Epoch [0], val_loss: 1.3258, val_acc: 0.8002\n",
            "Epoch [0], val_loss: 1.3254, val_acc: 0.8009\n",
            "Epoch [0], val_loss: 1.3250, val_acc: 0.8014\n",
            "Epoch [0], val_loss: 1.3247, val_acc: 0.8015\n",
            "Epoch [0], val_loss: 1.3243, val_acc: 0.8014\n",
            "Epoch [0], val_loss: 1.3240, val_acc: 0.8015\n",
            "Epoch [0], val_loss: 1.3236, val_acc: 0.8017\n",
            "Epoch [0], val_loss: 1.3232, val_acc: 0.8014\n",
            "Epoch [0], val_loss: 1.3229, val_acc: 0.8015\n",
            "Epoch [0], val_loss: 1.3225, val_acc: 0.8015\n",
            "Epoch [0], val_loss: 1.3222, val_acc: 0.8014\n",
            "Epoch [0], val_loss: 1.3218, val_acc: 0.8008\n",
            "Epoch [0], val_loss: 1.3215, val_acc: 0.8009\n",
            "Epoch [0], val_loss: 1.3211, val_acc: 0.8007\n",
            "Epoch [0], val_loss: 1.3208, val_acc: 0.8008\n",
            "Epoch [0], val_loss: 1.3205, val_acc: 0.8010\n",
            "Epoch [0], val_loss: 1.3201, val_acc: 0.8017\n",
            "Epoch [0], val_loss: 1.3198, val_acc: 0.8003\n",
            "Epoch [0], val_loss: 1.3194, val_acc: 0.8003\n",
            "Epoch [0], val_loss: 1.3191, val_acc: 0.8006\n",
            "Epoch [0], val_loss: 1.3188, val_acc: 0.8005\n",
            "Epoch [0], val_loss: 1.3184, val_acc: 0.8003\n",
            "Epoch [0], val_loss: 1.3181, val_acc: 0.8004\n",
            "Epoch [0], val_loss: 1.3178, val_acc: 0.8003\n"
          ]
        }
      ]
    },
    {
      "cell_type": "markdown",
      "source": [
        "# We have the accuracy of 80%"
      ],
      "metadata": {
        "id": "YETOkm4Y4KDW"
      }
    },
    {
      "cell_type": "markdown",
      "source": [
        "Lets plot this"
      ],
      "metadata": {
        "id": "pKPjm9pQ4_yW"
      }
    },
    {
      "cell_type": "code",
      "source": [
        "history = [result0] + history1 + history2 + history3 + history4\n",
        "accuracies = [result['val_acc'] for result in history]\n",
        "plt.plot(accuracies, '-x')\n",
        "plt.xlabel('epoch')\n",
        "plt.ylabel('accuracy')\n",
        "plt.title('Accuracy vs. No. of epochs');"
      ],
      "metadata": {
        "colab": {
          "base_uri": "https://localhost:8080/",
          "height": 472
        },
        "id": "vWetgGXvvOuw",
        "outputId": "1027f243-798a-4899-dd44-309804da7121"
      },
      "execution_count": null,
      "outputs": [
        {
          "output_type": "display_data",
          "data": {
            "text/plain": [
              "<Figure size 640x480 with 1 Axes>"
            ],
            "image/png": "[encoded data removed]"
          },
          "metadata": {}
        }
      ]
    },
    {
      "cell_type": "code",
      "source": [],
      "metadata": {
        "id": "WroPTo4T5Dge"
      },
      "execution_count": null,
      "outputs": []
    }
  ]
}